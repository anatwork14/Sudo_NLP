{
  "nbformat": 4,
  "nbformat_minor": 0,
  "metadata": {
    "colab": {
      "provenance": []
    },
    "kernelspec": {
      "name": "python3",
      "display_name": "Python 3"
    },
    "language_info": {
      "name": "python"
    }
  },
  "cells": [
    {
      "cell_type": "code",
      "source": [
        "!pip install -U gensim"
      ],
      "metadata": {
        "colab": {
          "base_uri": "https://localhost:8080/"
        },
        "id": "x6alpfdkenlQ",
        "outputId": "9c2b6b7f-642f-4c56-8781-a7d0a2dd4ad6",
        "collapsed": true
      },
      "execution_count": 1,
      "outputs": [
        {
          "output_type": "stream",
          "name": "stdout",
          "text": [
            "Requirement already satisfied: gensim in /usr/local/lib/python3.12/dist-packages (4.3.3)\n",
            "Requirement already satisfied: numpy<2.0,>=1.18.5 in /usr/local/lib/python3.12/dist-packages (from gensim) (1.26.4)\n",
            "Requirement already satisfied: scipy<1.14.0,>=1.7.0 in /usr/local/lib/python3.12/dist-packages (from gensim) (1.13.1)\n",
            "Requirement already satisfied: smart-open>=1.8.1 in /usr/local/lib/python3.12/dist-packages (from gensim) (7.3.0.post1)\n",
            "Requirement already satisfied: wrapt in /usr/local/lib/python3.12/dist-packages (from smart-open>=1.8.1->gensim) (1.17.3)\n"
          ]
        }
      ]
    },
    {
      "cell_type": "code",
      "source": [
        "with open('/content/drive/MyDrive/SudoCode/Week 1 - Text Embeddings/viwik19.txt', encoding='utf-16') as f:\n",
        "    data = f.read()"
      ],
      "metadata": {
        "id": "ecPbQsPSW_2R"
      },
      "execution_count": 2,
      "outputs": []
    },
    {
      "cell_type": "code",
      "source": [
        "print(len(data))"
      ],
      "metadata": {
        "id": "0fJo4EZFXJV3",
        "colab": {
          "base_uri": "https://localhost:8080/"
        },
        "outputId": "20de08f8-2764-443e-ee30-b7c442bbc195"
      },
      "execution_count": 3,
      "outputs": [
        {
          "output_type": "stream",
          "name": "stdout",
          "text": [
            "72317211\n"
          ]
        }
      ]
    },
    {
      "cell_type": "code",
      "source": [
        "data[:200]"
      ],
      "metadata": {
        "colab": {
          "base_uri": "https://localhost:8080/",
          "height": 53
        },
        "id": "nxsAd7NyddI4",
        "outputId": "cb4b4164-8e79-4962-c024-d823592edb4f"
      },
      "execution_count": 4,
      "outputs": [
        {
          "output_type": "execute_result",
          "data": {
            "text/plain": [
              "'trang chính  internet society  internet society hay isoc là một tổ chức quốc tế hoạt động phi lợi nhuận phi chính phủ và bao gồm các thành viên có trình độ chuyên ngành tổ chức này chú trọng đến tiêu '"
            ],
            "application/vnd.google.colaboratory.intrinsic+json": {
              "type": "string"
            }
          },
          "metadata": {},
          "execution_count": 4
        }
      ]
    },
    {
      "cell_type": "code",
      "source": [
        " from nltk import sent_tokenize, word_tokenize"
      ],
      "metadata": {
        "id": "aAeERvEwdh8f"
      },
      "execution_count": 5,
      "outputs": []
    },
    {
      "cell_type": "code",
      "source": [
        "\n",
        "  >>> import nltk\n",
        "  >>> nltk.download('punkt_tab')"
      ],
      "metadata": {
        "colab": {
          "base_uri": "https://localhost:8080/"
        },
        "id": "zyXAN-GHd5nM",
        "outputId": "1089f75d-34e8-4b02-87eb-6ef293e73014"
      },
      "execution_count": 6,
      "outputs": [
        {
          "output_type": "stream",
          "name": "stderr",
          "text": [
            "[nltk_data] Downloading package punkt_tab to /root/nltk_data...\n",
            "[nltk_data]   Package punkt_tab is already up-to-date!\n"
          ]
        },
        {
          "output_type": "execute_result",
          "data": {
            "text/plain": [
              "True"
            ]
          },
          "metadata": {},
          "execution_count": 6
        }
      ]
    },
    {
      "cell_type": "code",
      "source": [
        "tokens = word_tokenize(data)"
      ],
      "metadata": {
        "id": "3kE9AqEod1Z4"
      },
      "execution_count": 7,
      "outputs": []
    },
    {
      "cell_type": "code",
      "source": [
        "tokens[:5]"
      ],
      "metadata": {
        "colab": {
          "base_uri": "https://localhost:8080/"
        },
        "id": "I85-He0_d4LX",
        "outputId": "15c9154c-aeb9-40c3-f796-9eb0c97aa8a8"
      },
      "execution_count": 8,
      "outputs": [
        {
          "output_type": "execute_result",
          "data": {
            "text/plain": [
              "['trang', 'chính', 'internet', 'society', 'internet']"
            ]
          },
          "metadata": {},
          "execution_count": 8
        }
      ]
    },
    {
      "cell_type": "code",
      "source": [
        "from gensim.models import Word2Vec\n"
      ],
      "metadata": {
        "id": "ydqBOSUHePeA"
      },
      "execution_count": 9,
      "outputs": []
    },
    {
      "cell_type": "code",
      "source": [
        "sentences = [tokens]"
      ],
      "metadata": {
        "id": "urWYAWCiANa5"
      },
      "execution_count": 10,
      "outputs": []
    },
    {
      "cell_type": "code",
      "source": [
        "model = Word2Vec(\n",
        "    sentences,\n",
        "    vector_size=100,\n",
        "    window=5,\n",
        "    min_count=5,\n",
        "    sg=1,\n",
        "    workers=4,\n",
        "    epochs=10,\n",
        "    compute_loss=True   # ✅ enable loss tracking\n",
        ")"
      ],
      "metadata": {
        "id": "xpmLDLNQhVJx"
      },
      "execution_count": 11,
      "outputs": []
    },
    {
      "cell_type": "code",
      "source": [
        "model.build_vocab(sentences)"
      ],
      "metadata": {
        "colab": {
          "base_uri": "https://localhost:8080/"
        },
        "id": "XK8CpIg5fkbH",
        "outputId": "a5be30b7-8f09-4f7e-d25f-8651f9a61af1"
      },
      "execution_count": 12,
      "outputs": [
        {
          "output_type": "stream",
          "name": "stderr",
          "text": [
            "WARNING:gensim.models.keyedvectors:sorting after vectors have been allocated is expensive & error-prone\n"
          ]
        }
      ]
    },
    {
      "cell_type": "code",
      "source": [
        "model.train(\n",
        "        sentences,\n",
        "        total_examples=model.corpus_count,\n",
        "        epochs=10\n",
        ")"
      ],
      "metadata": {
        "colab": {
          "base_uri": "https://localhost:8080/"
        },
        "id": "FMJPI9jgeX6v",
        "outputId": "6f845dc7-b83f-45ab-b14b-2ebe605079d0"
      },
      "execution_count": 13,
      "outputs": [
        {
          "output_type": "stream",
          "name": "stderr",
          "text": [
            "WARNING:gensim.models.word2vec:Effective 'alpha' higher than previous training cycles\n"
          ]
        },
        {
          "output_type": "execute_result",
          "data": {
            "text/plain": [
              "(100000, 158321740)"
            ]
          },
          "metadata": {},
          "execution_count": 13
        }
      ]
    },
    {
      "cell_type": "code",
      "source": [
        "embedding_matrix = model.wv.vectors\n",
        "\n",
        "print(\"Embedding matrix shape:\", embedding_matrix.shape)"
      ],
      "metadata": {
        "colab": {
          "base_uri": "https://localhost:8080/"
        },
        "id": "OZopxZRXkk73",
        "outputId": "061dd4f9-84e8-4eb4-fcec-27aba574e0a4"
      },
      "execution_count": 14,
      "outputs": [
        {
          "output_type": "stream",
          "name": "stdout",
          "text": [
            "Embedding matrix shape: (27617, 100)\n"
          ]
        }
      ]
    },
    {
      "cell_type": "code",
      "source": [
        "word_to_index = {word: idx for idx, word in enumerate(model.wv.index_to_key)}"
      ],
      "metadata": {
        "id": "a0XvWAxykppX"
      },
      "execution_count": 15,
      "outputs": []
    },
    {
      "cell_type": "code",
      "source": [
        "print(model.wv.index_to_key[:30])  # first 30 tokens"
      ],
      "metadata": {
        "colab": {
          "base_uri": "https://localhost:8080/"
        },
        "id": "yMvYePmbmhNA",
        "outputId": "3cd8813a-6025-4a78-e65c-8a0e7d62eb0a"
      },
      "execution_count": 16,
      "outputs": [
        {
          "output_type": "stream",
          "name": "stdout",
          "text": [
            "['một', 'không', 'và', 'của', 'là', 'các', 'năm', 'hai', 'có', 'trong', 'được', 'chín', 'người', 'với', 'ba', 'cho', 'đã', 'thành', 'những', 'bốn', 'tám', 'từ', 'ở', 'sáu', 'bảy', 'này', 'vào', 'quốc', 'nam', 'công']\n"
          ]
        }
      ]
    },
    {
      "cell_type": "code",
      "source": [
        "#Gemini Display the embeddings for the first 5 words in the vocabulary\n",
        "for i, word in enumerate(list(word_to_index.keys())[:5]):\n",
        "    print(f\"Embedding for '{word}':\")\n",
        "    display(embedding_matrix[word_to_index[word]])"
      ],
      "metadata": {
        "colab": {
          "base_uri": "https://localhost:8080/",
          "height": 1000
        },
        "id": "zzmoX2UJCgHn",
        "outputId": "9006591d-5e10-42f3-ac65-e0b3871e6518"
      },
      "execution_count": 17,
      "outputs": [
        {
          "output_type": "stream",
          "name": "stdout",
          "text": [
            "Embedding for 'một':\n"
          ]
        },
        {
          "output_type": "display_data",
          "data": {
            "text/plain": [
              "array([ 0.00350239, -0.62210846, -0.4926572 ,  0.5858125 , -0.7007694 ,\n",
              "        0.07437699,  0.1886458 ,  0.75673246, -0.15732835,  0.05443705,\n",
              "        0.39601508,  0.41706398, -0.16759293, -0.24416958,  0.05248348,\n",
              "       -0.11401793,  0.6942635 , -0.9375662 , -0.71807474, -0.33636752,\n",
              "        0.0172675 , -0.08753575, -0.5674355 , -0.7283653 , -0.05564255,\n",
              "       -0.33600345, -0.06877654, -0.20766917, -0.08976454, -0.22282891,\n",
              "        0.9135598 ,  0.71943146,  0.44477388, -0.11044101, -0.44968817,\n",
              "        0.6311258 , -0.30938047,  0.0264007 ,  0.04762374, -0.24425778,\n",
              "        0.07022332, -0.19993435,  0.19547847, -0.25311846, -0.22022462,\n",
              "       -0.23776959, -0.55216604, -0.53717464, -0.18045375, -0.01268925,\n",
              "       -0.24524482, -0.11081384,  0.1941427 , -0.0417763 ,  0.23761156,\n",
              "       -0.07027346,  0.15361491, -0.6726293 ,  0.40015182, -0.05604372,\n",
              "        0.27815998, -0.3414049 ,  0.5961058 , -0.31166914, -0.35150525,\n",
              "       -0.28382277,  0.05412106,  0.6012357 , -1.0015736 , -0.5245464 ,\n",
              "       -0.05158261,  0.39832708, -0.02006096,  0.0884557 ,  0.4497507 ,\n",
              "       -0.33562082, -0.18433943, -0.2076357 , -0.28598577, -0.4046586 ,\n",
              "        0.67718124,  0.28328443, -0.94830805,  0.10803909, -0.31983924,\n",
              "        0.29552343,  0.12614095,  0.19189425,  0.6139186 ,  0.52185   ,\n",
              "        0.02493037,  0.257031  ,  0.3804926 ,  0.33125007, -0.3999231 ,\n",
              "        0.06708454, -0.1726829 ,  0.03562231,  0.9840562 , -0.09931495],\n",
              "      dtype=float32)"
            ]
          },
          "metadata": {}
        },
        {
          "output_type": "stream",
          "name": "stdout",
          "text": [
            "Embedding for 'không':\n"
          ]
        },
        {
          "output_type": "display_data",
          "data": {
            "text/plain": [
              "array([ 0.00866943, -0.59077525, -0.63812274,  0.4916343 , -0.5995086 ,\n",
              "        0.17382683,  0.1433538 ,  0.8304848 , -0.07385606,  0.16727214,\n",
              "        0.3726638 ,  0.4009967 ,  0.01279021, -0.11386234,  0.01271985,\n",
              "       -0.12235627,  0.7213038 , -1.0720452 , -0.6877161 , -0.35699788,\n",
              "        0.01812399, -0.05803733, -0.5588722 , -0.72912496, -0.08386474,\n",
              "       -0.386907  , -0.11588424, -0.2642853 , -0.06828955, -0.33926812,\n",
              "        1.1397853 ,  0.8083817 ,  0.51531714, -0.13123243, -0.48454106,\n",
              "        0.64471275, -0.28766763,  0.188415  ,  0.21962708, -0.38420215,\n",
              "        0.00208333, -0.11565313,  0.1593759 , -0.29528883, -0.36144263,\n",
              "       -0.16196528, -0.51777595, -0.47428802, -0.21821278, -0.02057208,\n",
              "       -0.22336456, -0.02506376,  0.1836431 ,  0.05862397,  0.37283957,\n",
              "       -0.13647395,  0.25604615, -0.73428196,  0.4310087 , -0.08723598,\n",
              "        0.2370117 , -0.27800283,  0.61398256, -0.25567213, -0.41095215,\n",
              "       -0.47373706, -0.03621369,  0.49113935, -1.1221616 , -0.57137555,\n",
              "        0.01125306,  0.41953573, -0.05565885,  0.12207794,  0.37477025,\n",
              "       -0.5202426 , -0.30744702, -0.29142603, -0.25786358, -0.38937426,\n",
              "        0.8322056 ,  0.33767197, -1.1042789 ,  0.04773334, -0.4281549 ,\n",
              "        0.2562663 , -0.01457207,  0.29338816,  0.71345365,  0.5484253 ,\n",
              "        0.00650732,  0.2910459 ,  0.44244227,  0.3794282 , -0.45792666,\n",
              "       -0.01453025, -0.26380068,  0.17920624,  1.0848846 , -0.1234296 ],\n",
              "      dtype=float32)"
            ]
          },
          "metadata": {}
        },
        {
          "output_type": "stream",
          "name": "stdout",
          "text": [
            "Embedding for 'và':\n"
          ]
        },
        {
          "output_type": "display_data",
          "data": {
            "text/plain": [
              "array([-0.14945789, -0.2771389 , -0.39053294,  0.43308634, -0.41680115,\n",
              "       -0.20286046,  0.25637516,  0.8044934 , -0.42599544,  0.1585415 ,\n",
              "        0.12027329, -0.01901742, -0.18624997, -0.16204785,  0.12483987,\n",
              "       -0.33226025,  0.49118653, -0.60819113, -0.53999203, -0.15235186,\n",
              "        0.17857789,  0.04739989, -0.2196953 , -0.5496623 ,  0.10567404,\n",
              "       -0.12251958, -0.13726512, -0.1534842 , -0.0290728 , -0.19750312,\n",
              "        0.8489731 ,  0.5353888 ,  0.2430476 , -0.02899693, -0.16385792,\n",
              "        0.7337364 , -0.27980813, -0.00317537,  0.14251277, -0.5144641 ,\n",
              "        0.04411734, -0.2541762 ,  0.0859844 ,  0.02198192, -0.06240918,\n",
              "       -0.28455558, -0.3711718 , -0.27592438, -0.03521987, -0.09026978,\n",
              "       -0.22088724, -0.2380333 ,  0.24816865, -0.06563673,  0.03108541,\n",
              "       -0.09476452,  0.01000492, -0.3512288 ,  0.26467076,  0.0293641 ,\n",
              "        0.2454474 , -0.27540478,  0.44504538, -0.2551262 , -0.426196  ,\n",
              "       -0.32192186,  0.10201403,  0.7563393 , -1.0493718 , -0.1413681 ,\n",
              "       -0.07363449,  0.22242475,  0.05762005,  0.10653409,  0.23899662,\n",
              "       -0.05416115, -0.40585554, -0.20452653, -0.20716557, -0.1938887 ,\n",
              "        0.51950145,  0.14960437, -0.70295715,  0.08797469, -0.2560367 ,\n",
              "        0.08013292,  0.0010637 ,  0.11909555,  0.4791456 ,  0.5083897 ,\n",
              "        0.22043292,  0.23424004,  0.5270754 ,  0.36391714, -0.10043291,\n",
              "        0.11591527, -0.13209109,  0.01960121,  0.79625624, -0.14954384],\n",
              "      dtype=float32)"
            ]
          },
          "metadata": {}
        },
        {
          "output_type": "stream",
          "name": "stdout",
          "text": [
            "Embedding for 'của':\n"
          ]
        },
        {
          "output_type": "display_data",
          "data": {
            "text/plain": [
              "array([-0.23981619, -0.3529752 , -0.4192313 ,  0.66228426, -0.51820683,\n",
              "       -0.33513185,  0.28892502,  0.8599071 , -0.622893  , -0.13941547,\n",
              "        0.17831072, -0.03070275, -0.29512072, -0.14130089,  0.30154204,\n",
              "       -0.4344594 ,  0.6064463 , -0.73923194, -0.6953568 , -0.2255132 ,\n",
              "        0.17792447, -0.03602744, -0.47543705, -0.5235204 ,  0.04862975,\n",
              "       -0.10012035, -0.19365656, -0.18247037, -0.14447981, -0.12582536,\n",
              "        0.71941364,  0.62880796,  0.15242243, -0.09717427, -0.20948572,\n",
              "        0.74647295, -0.16686359, -0.17579217, -0.13363265, -0.62117976,\n",
              "       -0.02762119, -0.2927945 ,  0.1714161 , -0.01883857, -0.07406488,\n",
              "       -0.30832362, -0.28633413, -0.52049726, -0.13556594,  0.05290392,\n",
              "       -0.15148215, -0.35170758,  0.29340652, -0.3004082 , -0.07695436,\n",
              "       -0.11640721,  0.07517098, -0.43883443,  0.2561966 ,  0.09055486,\n",
              "        0.44178307, -0.37884152,  0.42301646, -0.45526183, -0.3772679 ,\n",
              "       -0.05389263,  0.02428074,  0.84247196, -1.0615383 , -0.1868926 ,\n",
              "       -0.20886946,  0.23114643,  0.02904639,  0.06260683,  0.42161742,\n",
              "       -0.07179512, -0.31398186, -0.01445559, -0.43408522, -0.37755927,\n",
              "        0.41791376,  0.22465403, -0.7333197 ,  0.08067667, -0.25438154,\n",
              "        0.16739449,  0.11660433,  0.04679407,  0.61503327,  0.50761825,\n",
              "        0.25741395,  0.1394044 ,  0.38098848,  0.4641075 , -0.08204848,\n",
              "        0.08120637,  0.03548149, -0.1999902 ,  0.89269704, -0.17283148],\n",
              "      dtype=float32)"
            ]
          },
          "metadata": {}
        },
        {
          "output_type": "stream",
          "name": "stdout",
          "text": [
            "Embedding for 'là':\n"
          ]
        },
        {
          "output_type": "display_data",
          "data": {
            "text/plain": [
              "array([-0.1876212 , -0.34660566, -0.52939767,  0.7190926 , -0.63747036,\n",
              "       -0.21829207,  0.36836842,  0.90588695, -0.5757915 ,  0.07603461,\n",
              "        0.39344612,  0.11832949, -0.26768637,  0.00719321,  0.10586012,\n",
              "       -0.2171244 ,  0.65598005, -0.7894506 , -0.5459638 , -0.36045057,\n",
              "        0.1808083 , -0.1804937 , -0.26812717, -0.48035154, -0.08412939,\n",
              "       -0.13197358, -0.21654797, -0.23001109, -0.14628527, -0.07520433,\n",
              "        0.9644062 ,  0.7112082 ,  0.43345228,  0.01171776, -0.2791914 ,\n",
              "        0.7897883 , -0.20575646,  0.04168101, -0.10509823, -0.55999595,\n",
              "        0.06394797, -0.32116672,  0.12873986,  0.05389453, -0.04817148,\n",
              "       -0.18935405, -0.435697  , -0.47810158, -0.13753095, -0.03498936,\n",
              "       -0.23615704, -0.20197424,  0.21351239, -0.08799529,  0.12182201,\n",
              "       -0.14117084, -0.02367177, -0.41157308,  0.17975341,  0.1006674 ,\n",
              "        0.23309356, -0.44956145,  0.5350622 , -0.3247091 , -0.65012693,\n",
              "       -0.20266868,  0.0940873 ,  0.79408   , -1.1198021 , -0.30266586,\n",
              "       -0.03637742,  0.22255212,  0.15495962,  0.13540287,  0.39893547,\n",
              "       -0.16265076, -0.27982652, -0.17461719, -0.38380113, -0.25292554,\n",
              "        0.55318403,  0.15593125, -0.78517777,  0.09715579, -0.22610709,\n",
              "        0.11383087,  0.20378074, -0.07024533,  0.6237056 ,  0.54864323,\n",
              "        0.207174  ,  0.19534864,  0.41960758,  0.51714283, -0.16551052,\n",
              "        0.10657223, -0.07071203, -0.19605945,  0.831966  , -0.11477186],\n",
              "      dtype=float32)"
            ]
          },
          "metadata": {}
        }
      ]
    },
    {
      "cell_type": "code",
      "source": [
        "model.wv.most_similar('một')"
      ],
      "metadata": {
        "colab": {
          "base_uri": "https://localhost:8080/"
        },
        "id": "uG3DzHJUBCXA",
        "outputId": "e2a2b4ac-d8a0-4b2b-ff59-ab99d1f0f4a5"
      },
      "execution_count": 18,
      "outputs": [
        {
          "output_type": "execute_result",
          "data": {
            "text/plain": [
              "[('hai', 0.9864614009857178),\n",
              " ('đến', 0.9856414198875427),\n",
              " ('ba', 0.9843888282775879),\n",
              " ('người', 0.9836935997009277),\n",
              " ('không', 0.9833913445472717),\n",
              " ('bốn', 0.9827571511268616),\n",
              " ('tuổi', 0.9786534309387207),\n",
              " ('bảy', 0.9773358702659607),\n",
              " ('sáu', 0.9752225279808044),\n",
              " ('tổng', 0.9743495583534241)]"
            ]
          },
          "metadata": {},
          "execution_count": 18
        }
      ]
    },
    {
      "cell_type": "code",
      "source": [
        "model.wv.most_similar(positive=['nam', 'nữ'], negative=['bé'])"
      ],
      "metadata": {
        "colab": {
          "base_uri": "https://localhost:8080/"
        },
        "id": "_Hp8D-2zBIV_",
        "outputId": "3a12e7ca-1d0b-4bf1-eb22-697b9f3dfcde"
      },
      "execution_count": 19,
      "outputs": [
        {
          "output_type": "execute_result",
          "data": {
            "text/plain": [
              "[('nằm', 0.9817094802856445),\n",
              " ('lại', 0.9789533615112305),\n",
              " ('thì', 0.9780063033103943),\n",
              " ('lan', 0.9774901866912842),\n",
              " ('michigan', 0.9755825400352478),\n",
              " ('đây', 0.9749459624290466),\n",
              " ('oresund', 0.9744448065757751),\n",
              " ('biên', 0.9733132123947144),\n",
              " ('đưa', 0.973264217376709),\n",
              " ('á', 0.9723911285400391)]"
            ]
          },
          "metadata": {},
          "execution_count": 19
        }
      ]
    },
    {
      "cell_type": "code",
      "source": [
        "word_freq = {word: model.wv.get_vecattr(word, \"count\") for word in model.wv.index_to_key}\n",
        "\n",
        "# Top 10 most frequent\n",
        "top10 = sorted(word_freq.items(), key=lambda x: x[1], reverse=True)[:10]\n",
        "print(top10)"
      ],
      "metadata": {
        "colab": {
          "base_uri": "https://localhost:8080/"
        },
        "id": "gBjm4Wn_Bt7w",
        "outputId": "4559509d-c4f2-4510-b561-b523600b5ed4"
      },
      "execution_count": 20,
      "outputs": [
        {
          "output_type": "stream",
          "name": "stdout",
          "text": [
            "[('một', 402666), ('không', 267433), ('và', 254769), ('của', 232454), ('là', 201142), ('các', 190642), ('năm', 190306), ('hai', 167890), ('có', 154689), ('trong', 149428)]\n"
          ]
        }
      ]
    },
    {
      "cell_type": "code",
      "source": [
        "import pandas as pd\n",
        "\n",
        "words = [\"một\", \"hai\", \"ba\"]\n",
        "embeddings = [model.wv[w] for w in words if w in model.wv]\n",
        "\n",
        "df = pd.DataFrame(embeddings, index=words)\n",
        "display(df.head())"
      ],
      "metadata": {
        "id": "aFWMeCBeCc3X",
        "colab": {
          "base_uri": "https://localhost:8080/",
          "height": 193
        },
        "outputId": "385e8b13-b9e0-49d7-c580-d2b4952040ca"
      },
      "execution_count": 21,
      "outputs": [
        {
          "output_type": "display_data",
          "data": {
            "text/plain": [
              "           0         1         2         3         4         5         6   \\\n",
              "một  0.003502 -0.622108 -0.492657  0.585813 -0.700769  0.074377  0.188646   \n",
              "hai -0.007325 -0.618528 -0.593247  0.505614 -0.645769  0.172528  0.072302   \n",
              "ba  -0.006795 -0.568002 -0.498336  0.424029 -0.567228  0.125890  0.105262   \n",
              "\n",
              "           7         8         9   ...        90        91        92       93  \\\n",
              "một  0.756732 -0.157328  0.054437  ...  0.024930  0.257031  0.380493  0.33125   \n",
              "hai  0.729002 -0.007299  0.173517  ... -0.035071  0.318897  0.446949  0.33745   \n",
              "ba   0.707073 -0.023990  0.199273  ... -0.036810  0.313217  0.462615  0.26801   \n",
              "\n",
              "           94        95        96        97        98        99  \n",
              "một -0.399923  0.067085 -0.172683  0.035622  0.984056 -0.099315  \n",
              "hai -0.419282  0.048181 -0.281735  0.023733  1.028488 -0.075297  \n",
              "ba  -0.359894  0.017074 -0.237321  0.068409  0.966831 -0.128901  \n",
              "\n",
              "[3 rows x 100 columns]"
            ],
            "text/html": [
              "\n",
              "  <div id=\"df-7b653463-da90-4e89-9e48-f5355196435c\" class=\"colab-df-container\">\n",
              "    <div>\n",
              "<style scoped>\n",
              "    .dataframe tbody tr th:only-of-type {\n",
              "        vertical-align: middle;\n",
              "    }\n",
              "\n",
              "    .dataframe tbody tr th {\n",
              "        vertical-align: top;\n",
              "    }\n",
              "\n",
              "    .dataframe thead th {\n",
              "        text-align: right;\n",
              "    }\n",
              "</style>\n",
              "<table border=\"1\" class=\"dataframe\">\n",
              "  <thead>\n",
              "    <tr style=\"text-align: right;\">\n",
              "      <th></th>\n",
              "      <th>0</th>\n",
              "      <th>1</th>\n",
              "      <th>2</th>\n",
              "      <th>3</th>\n",
              "      <th>4</th>\n",
              "      <th>5</th>\n",
              "      <th>6</th>\n",
              "      <th>7</th>\n",
              "      <th>8</th>\n",
              "      <th>9</th>\n",
              "      <th>...</th>\n",
              "      <th>90</th>\n",
              "      <th>91</th>\n",
              "      <th>92</th>\n",
              "      <th>93</th>\n",
              "      <th>94</th>\n",
              "      <th>95</th>\n",
              "      <th>96</th>\n",
              "      <th>97</th>\n",
              "      <th>98</th>\n",
              "      <th>99</th>\n",
              "    </tr>\n",
              "  </thead>\n",
              "  <tbody>\n",
              "    <tr>\n",
              "      <th>một</th>\n",
              "      <td>0.003502</td>\n",
              "      <td>-0.622108</td>\n",
              "      <td>-0.492657</td>\n",
              "      <td>0.585813</td>\n",
              "      <td>-0.700769</td>\n",
              "      <td>0.074377</td>\n",
              "      <td>0.188646</td>\n",
              "      <td>0.756732</td>\n",
              "      <td>-0.157328</td>\n",
              "      <td>0.054437</td>\n",
              "      <td>...</td>\n",
              "      <td>0.024930</td>\n",
              "      <td>0.257031</td>\n",
              "      <td>0.380493</td>\n",
              "      <td>0.33125</td>\n",
              "      <td>-0.399923</td>\n",
              "      <td>0.067085</td>\n",
              "      <td>-0.172683</td>\n",
              "      <td>0.035622</td>\n",
              "      <td>0.984056</td>\n",
              "      <td>-0.099315</td>\n",
              "    </tr>\n",
              "    <tr>\n",
              "      <th>hai</th>\n",
              "      <td>-0.007325</td>\n",
              "      <td>-0.618528</td>\n",
              "      <td>-0.593247</td>\n",
              "      <td>0.505614</td>\n",
              "      <td>-0.645769</td>\n",
              "      <td>0.172528</td>\n",
              "      <td>0.072302</td>\n",
              "      <td>0.729002</td>\n",
              "      <td>-0.007299</td>\n",
              "      <td>0.173517</td>\n",
              "      <td>...</td>\n",
              "      <td>-0.035071</td>\n",
              "      <td>0.318897</td>\n",
              "      <td>0.446949</td>\n",
              "      <td>0.33745</td>\n",
              "      <td>-0.419282</td>\n",
              "      <td>0.048181</td>\n",
              "      <td>-0.281735</td>\n",
              "      <td>0.023733</td>\n",
              "      <td>1.028488</td>\n",
              "      <td>-0.075297</td>\n",
              "    </tr>\n",
              "    <tr>\n",
              "      <th>ba</th>\n",
              "      <td>-0.006795</td>\n",
              "      <td>-0.568002</td>\n",
              "      <td>-0.498336</td>\n",
              "      <td>0.424029</td>\n",
              "      <td>-0.567228</td>\n",
              "      <td>0.125890</td>\n",
              "      <td>0.105262</td>\n",
              "      <td>0.707073</td>\n",
              "      <td>-0.023990</td>\n",
              "      <td>0.199273</td>\n",
              "      <td>...</td>\n",
              "      <td>-0.036810</td>\n",
              "      <td>0.313217</td>\n",
              "      <td>0.462615</td>\n",
              "      <td>0.26801</td>\n",
              "      <td>-0.359894</td>\n",
              "      <td>0.017074</td>\n",
              "      <td>-0.237321</td>\n",
              "      <td>0.068409</td>\n",
              "      <td>0.966831</td>\n",
              "      <td>-0.128901</td>\n",
              "    </tr>\n",
              "  </tbody>\n",
              "</table>\n",
              "<p>3 rows × 100 columns</p>\n",
              "</div>\n",
              "    <div class=\"colab-df-buttons\">\n",
              "\n",
              "  <div class=\"colab-df-container\">\n",
              "    <button class=\"colab-df-convert\" onclick=\"convertToInteractive('df-7b653463-da90-4e89-9e48-f5355196435c')\"\n",
              "            title=\"Convert this dataframe to an interactive table.\"\n",
              "            style=\"display:none;\">\n",
              "\n",
              "  <svg xmlns=\"http://www.w3.org/2000/svg\" height=\"24px\" viewBox=\"0 -960 960 960\">\n",
              "    <path d=\"M120-120v-720h720v720H120Zm60-500h600v-160H180v160Zm220 220h160v-160H400v160Zm0 220h160v-160H400v160ZM180-400h160v-160H180v160Zm440 0h160v-160H620v160ZM180-180h160v-160H180v160Zm440 0h160v-160H620v160Z\"/>\n",
              "  </svg>\n",
              "    </button>\n",
              "\n",
              "  <style>\n",
              "    .colab-df-container {\n",
              "      display:flex;\n",
              "      gap: 12px;\n",
              "    }\n",
              "\n",
              "    .colab-df-convert {\n",
              "      background-color: #E8F0FE;\n",
              "      border: none;\n",
              "      border-radius: 50%;\n",
              "      cursor: pointer;\n",
              "      display: none;\n",
              "      fill: #1967D2;\n",
              "      height: 32px;\n",
              "      padding: 0 0 0 0;\n",
              "      width: 32px;\n",
              "    }\n",
              "\n",
              "    .colab-df-convert:hover {\n",
              "      background-color: #E2EBFA;\n",
              "      box-shadow: 0px 1px 2px rgba(60, 64, 67, 0.3), 0px 1px 3px 1px rgba(60, 64, 67, 0.15);\n",
              "      fill: #174EA6;\n",
              "    }\n",
              "\n",
              "    .colab-df-buttons div {\n",
              "      margin-bottom: 4px;\n",
              "    }\n",
              "\n",
              "    [theme=dark] .colab-df-convert {\n",
              "      background-color: #3B4455;\n",
              "      fill: #D2E3FC;\n",
              "    }\n",
              "\n",
              "    [theme=dark] .colab-df-convert:hover {\n",
              "      background-color: #434B5C;\n",
              "      box-shadow: 0px 1px 3px 1px rgba(0, 0, 0, 0.15);\n",
              "      filter: drop-shadow(0px 1px 2px rgba(0, 0, 0, 0.3));\n",
              "      fill: #FFFFFF;\n",
              "    }\n",
              "  </style>\n",
              "\n",
              "    <script>\n",
              "      const buttonEl =\n",
              "        document.querySelector('#df-7b653463-da90-4e89-9e48-f5355196435c button.colab-df-convert');\n",
              "      buttonEl.style.display =\n",
              "        google.colab.kernel.accessAllowed ? 'block' : 'none';\n",
              "\n",
              "      async function convertToInteractive(key) {\n",
              "        const element = document.querySelector('#df-7b653463-da90-4e89-9e48-f5355196435c');\n",
              "        const dataTable =\n",
              "          await google.colab.kernel.invokeFunction('convertToInteractive',\n",
              "                                                    [key], {});\n",
              "        if (!dataTable) return;\n",
              "\n",
              "        const docLinkHtml = 'Like what you see? Visit the ' +\n",
              "          '<a target=\"_blank\" href=https://colab.research.google.com/notebooks/data_table.ipynb>data table notebook</a>'\n",
              "          + ' to learn more about interactive tables.';\n",
              "        element.innerHTML = '';\n",
              "        dataTable['output_type'] = 'display_data';\n",
              "        await google.colab.output.renderOutput(dataTable, element);\n",
              "        const docLink = document.createElement('div');\n",
              "        docLink.innerHTML = docLinkHtml;\n",
              "        element.appendChild(docLink);\n",
              "      }\n",
              "    </script>\n",
              "  </div>\n",
              "\n",
              "\n",
              "    <div id=\"df-ef32e196-6188-4ee3-9076-5270ab470271\">\n",
              "      <button class=\"colab-df-quickchart\" onclick=\"quickchart('df-ef32e196-6188-4ee3-9076-5270ab470271')\"\n",
              "                title=\"Suggest charts\"\n",
              "                style=\"display:none;\">\n",
              "\n",
              "<svg xmlns=\"http://www.w3.org/2000/svg\" height=\"24px\"viewBox=\"0 0 24 24\"\n",
              "     width=\"24px\">\n",
              "    <g>\n",
              "        <path d=\"M19 3H5c-1.1 0-2 .9-2 2v14c0 1.1.9 2 2 2h14c1.1 0 2-.9 2-2V5c0-1.1-.9-2-2-2zM9 17H7v-7h2v7zm4 0h-2V7h2v10zm4 0h-2v-4h2v4z\"/>\n",
              "    </g>\n",
              "</svg>\n",
              "      </button>\n",
              "\n",
              "<style>\n",
              "  .colab-df-quickchart {\n",
              "      --bg-color: #E8F0FE;\n",
              "      --fill-color: #1967D2;\n",
              "      --hover-bg-color: #E2EBFA;\n",
              "      --hover-fill-color: #174EA6;\n",
              "      --disabled-fill-color: #AAA;\n",
              "      --disabled-bg-color: #DDD;\n",
              "  }\n",
              "\n",
              "  [theme=dark] .colab-df-quickchart {\n",
              "      --bg-color: #3B4455;\n",
              "      --fill-color: #D2E3FC;\n",
              "      --hover-bg-color: #434B5C;\n",
              "      --hover-fill-color: #FFFFFF;\n",
              "      --disabled-bg-color: #3B4455;\n",
              "      --disabled-fill-color: #666;\n",
              "  }\n",
              "\n",
              "  .colab-df-quickchart {\n",
              "    background-color: var(--bg-color);\n",
              "    border: none;\n",
              "    border-radius: 50%;\n",
              "    cursor: pointer;\n",
              "    display: none;\n",
              "    fill: var(--fill-color);\n",
              "    height: 32px;\n",
              "    padding: 0;\n",
              "    width: 32px;\n",
              "  }\n",
              "\n",
              "  .colab-df-quickchart:hover {\n",
              "    background-color: var(--hover-bg-color);\n",
              "    box-shadow: 0 1px 2px rgba(60, 64, 67, 0.3), 0 1px 3px 1px rgba(60, 64, 67, 0.15);\n",
              "    fill: var(--button-hover-fill-color);\n",
              "  }\n",
              "\n",
              "  .colab-df-quickchart-complete:disabled,\n",
              "  .colab-df-quickchart-complete:disabled:hover {\n",
              "    background-color: var(--disabled-bg-color);\n",
              "    fill: var(--disabled-fill-color);\n",
              "    box-shadow: none;\n",
              "  }\n",
              "\n",
              "  .colab-df-spinner {\n",
              "    border: 2px solid var(--fill-color);\n",
              "    border-color: transparent;\n",
              "    border-bottom-color: var(--fill-color);\n",
              "    animation:\n",
              "      spin 1s steps(1) infinite;\n",
              "  }\n",
              "\n",
              "  @keyframes spin {\n",
              "    0% {\n",
              "      border-color: transparent;\n",
              "      border-bottom-color: var(--fill-color);\n",
              "      border-left-color: var(--fill-color);\n",
              "    }\n",
              "    20% {\n",
              "      border-color: transparent;\n",
              "      border-left-color: var(--fill-color);\n",
              "      border-top-color: var(--fill-color);\n",
              "    }\n",
              "    30% {\n",
              "      border-color: transparent;\n",
              "      border-left-color: var(--fill-color);\n",
              "      border-top-color: var(--fill-color);\n",
              "      border-right-color: var(--fill-color);\n",
              "    }\n",
              "    40% {\n",
              "      border-color: transparent;\n",
              "      border-right-color: var(--fill-color);\n",
              "      border-top-color: var(--fill-color);\n",
              "    }\n",
              "    60% {\n",
              "      border-color: transparent;\n",
              "      border-right-color: var(--fill-color);\n",
              "    }\n",
              "    80% {\n",
              "      border-color: transparent;\n",
              "      border-right-color: var(--fill-color);\n",
              "      border-bottom-color: var(--fill-color);\n",
              "    }\n",
              "    90% {\n",
              "      border-color: transparent;\n",
              "      border-bottom-color: var(--fill-color);\n",
              "    }\n",
              "  }\n",
              "</style>\n",
              "\n",
              "      <script>\n",
              "        async function quickchart(key) {\n",
              "          const quickchartButtonEl =\n",
              "            document.querySelector('#' + key + ' button');\n",
              "          quickchartButtonEl.disabled = true;  // To prevent multiple clicks.\n",
              "          quickchartButtonEl.classList.add('colab-df-spinner');\n",
              "          try {\n",
              "            const charts = await google.colab.kernel.invokeFunction(\n",
              "                'suggestCharts', [key], {});\n",
              "          } catch (error) {\n",
              "            console.error('Error during call to suggestCharts:', error);\n",
              "          }\n",
              "          quickchartButtonEl.classList.remove('colab-df-spinner');\n",
              "          quickchartButtonEl.classList.add('colab-df-quickchart-complete');\n",
              "        }\n",
              "        (() => {\n",
              "          let quickchartButtonEl =\n",
              "            document.querySelector('#df-ef32e196-6188-4ee3-9076-5270ab470271 button');\n",
              "          quickchartButtonEl.style.display =\n",
              "            google.colab.kernel.accessAllowed ? 'block' : 'none';\n",
              "        })();\n",
              "      </script>\n",
              "    </div>\n",
              "\n",
              "    </div>\n",
              "  </div>\n"
            ],
            "application/vnd.google.colaboratory.intrinsic+json": {
              "type": "dataframe"
            }
          },
          "metadata": {}
        }
      ]
    },
    {
      "cell_type": "code",
      "source": [
        "import random\n",
        "words = list(model.wv.index_to_key)\n",
        "\n",
        "# Select 10 random words\n",
        "random_words = random.sample(words, 10)\n",
        "random_words"
      ],
      "metadata": {
        "colab": {
          "base_uri": "https://localhost:8080/"
        },
        "id": "NN19gc5tq145",
        "outputId": "134e4172-32da-4c39-fcf4-56bb4f24076d"
      },
      "execution_count": 26,
      "outputs": [
        {
          "output_type": "execute_result",
          "data": {
            "text/plain": [
              "['olympia',\n",
              " 'against',\n",
              " 'hearst',\n",
              " 'tuýp',\n",
              " 'ability',\n",
              " 'blaine',\n",
              " 'amiral',\n",
              " 'preobrazhenskoe',\n",
              " 'plot',\n",
              " 'việp']"
            ]
          },
          "metadata": {},
          "execution_count": 26
        }
      ]
    },
    {
      "cell_type": "code",
      "source": [
        "embeddings = [model.wv[w] for w in random_words if w in model.wv]\n",
        "\n",
        "df = pd.DataFrame(embeddings, index=random_words)\n",
        "display(df)"
      ],
      "metadata": {
        "colab": {
          "base_uri": "https://localhost:8080/",
          "height": 412
        },
        "id": "sx4p1jscq8nB",
        "outputId": "577296b1-d1aa-4724-d606-060244db0f70"
      },
      "execution_count": 34,
      "outputs": [
        {
          "output_type": "display_data",
          "data": {
            "text/plain": [
              "                       0         1         2         3         4         5   \\\n",
              "olympia         -0.002607 -0.003677 -0.004018  0.007951 -0.008605  0.000287   \n",
              "against         -0.009967 -0.007643  0.004602  0.000521  0.003785 -0.001349   \n",
              "hearst          -0.003125  0.009750 -0.001731  0.007303  0.002016  0.003446   \n",
              "tuýp             0.005596  0.007377  0.009056  0.005736 -0.009418  0.008635   \n",
              "ability          0.009945  0.004033  0.009307 -0.009299  0.003471 -0.000644   \n",
              "blaine           0.004178 -0.006896 -0.007442  0.004260  0.008697 -0.004273   \n",
              "amiral          -0.000144  0.001471 -0.005547  0.008115  0.004213 -0.007777   \n",
              "preobrazhenskoe  0.008624  0.002354  0.007895  0.009862 -0.004184  0.008170   \n",
              "plot            -0.003458  0.006743 -0.002889  0.002577  0.008412 -0.001557   \n",
              "việp            -0.007660  0.009026 -0.002028 -0.006885 -0.008597 -0.000579   \n",
              "\n",
              "                       6         7         8         9   ...        90  \\\n",
              "olympia         -0.003149  0.004970 -0.006776  0.005527  ... -0.000480   \n",
              "against         -0.003438  0.004291  0.004468  0.003002  ... -0.009964   \n",
              "hearst           0.002105  0.008277 -0.007070 -0.002480  ...  0.000783   \n",
              "tuýp             0.002018  0.000165 -0.008882  0.009159  ... -0.000595   \n",
              "ability          0.006047  0.003008 -0.007457 -0.004182  ...  0.000355   \n",
              "blaine          -0.005074  0.001846 -0.006343 -0.002935  ...  0.006112   \n",
              "amiral           0.007686  0.005261 -0.009302  0.003383  ...  0.005043   \n",
              "preobrazhenskoe  0.002578 -0.004139  0.003646 -0.001696  ... -0.003952   \n",
              "plot             0.009324  0.008567 -0.001457 -0.002126  ... -0.006496   \n",
              "việp            -0.002909  0.001081  0.002146 -0.008461  ...  0.005728   \n",
              "\n",
              "                       91        92        93        94        95        96  \\\n",
              "olympia         -0.002611  0.004575 -0.003510 -0.004072 -0.004628 -0.001862   \n",
              "against          0.004691  0.008370  0.000709  0.006238  0.003937  0.001491   \n",
              "hearst          -0.006759  0.004881 -0.001818  0.007181  0.005835  0.003559   \n",
              "tuýp             0.000114 -0.003915  0.009779  0.009553  0.004026  0.005679   \n",
              "ability         -0.008300  0.006004  0.004647  0.009110  0.004154  0.001491   \n",
              "blaine          -0.005127  0.000953  0.002544 -0.005367 -0.007270 -0.005845   \n",
              "amiral          -0.008660 -0.004592  0.007984  0.002311  0.001753 -0.009300   \n",
              "preobrazhenskoe  0.004404 -0.009550 -0.004964  0.003134 -0.007311 -0.000571   \n",
              "plot            -0.003133  0.000344  0.001892 -0.008032 -0.000587  0.005236   \n",
              "việp            -0.006225 -0.005454 -0.009666  0.007996 -0.008422  0.002221   \n",
              "\n",
              "                       97        98        99  \n",
              "olympia         -0.001696  0.002362 -0.003606  \n",
              "against         -0.002045 -0.005886 -0.006449  \n",
              "hearst          -0.009807 -0.007202 -0.006572  \n",
              "tuýp            -0.006388 -0.000230  0.003119  \n",
              "ability         -0.001463  0.006826  0.002105  \n",
              "blaine          -0.004661 -0.001139 -0.001240  \n",
              "amiral           0.009960  0.002934 -0.007738  \n",
              "preobrazhenskoe -0.006498 -0.003184 -0.005164  \n",
              "plot            -0.007239  0.000785  0.002685  \n",
              "việp             0.003820  0.004507 -0.009565  \n",
              "\n",
              "[10 rows x 100 columns]"
            ],
            "text/html": [
              "\n",
              "  <div id=\"df-ff972749-1e8b-48db-b208-f57db338f95b\" class=\"colab-df-container\">\n",
              "    <div>\n",
              "<style scoped>\n",
              "    .dataframe tbody tr th:only-of-type {\n",
              "        vertical-align: middle;\n",
              "    }\n",
              "\n",
              "    .dataframe tbody tr th {\n",
              "        vertical-align: top;\n",
              "    }\n",
              "\n",
              "    .dataframe thead th {\n",
              "        text-align: right;\n",
              "    }\n",
              "</style>\n",
              "<table border=\"1\" class=\"dataframe\">\n",
              "  <thead>\n",
              "    <tr style=\"text-align: right;\">\n",
              "      <th></th>\n",
              "      <th>0</th>\n",
              "      <th>1</th>\n",
              "      <th>2</th>\n",
              "      <th>3</th>\n",
              "      <th>4</th>\n",
              "      <th>5</th>\n",
              "      <th>6</th>\n",
              "      <th>7</th>\n",
              "      <th>8</th>\n",
              "      <th>9</th>\n",
              "      <th>...</th>\n",
              "      <th>90</th>\n",
              "      <th>91</th>\n",
              "      <th>92</th>\n",
              "      <th>93</th>\n",
              "      <th>94</th>\n",
              "      <th>95</th>\n",
              "      <th>96</th>\n",
              "      <th>97</th>\n",
              "      <th>98</th>\n",
              "      <th>99</th>\n",
              "    </tr>\n",
              "  </thead>\n",
              "  <tbody>\n",
              "    <tr>\n",
              "      <th>olympia</th>\n",
              "      <td>-0.002607</td>\n",
              "      <td>-0.003677</td>\n",
              "      <td>-0.004018</td>\n",
              "      <td>0.007951</td>\n",
              "      <td>-0.008605</td>\n",
              "      <td>0.000287</td>\n",
              "      <td>-0.003149</td>\n",
              "      <td>0.004970</td>\n",
              "      <td>-0.006776</td>\n",
              "      <td>0.005527</td>\n",
              "      <td>...</td>\n",
              "      <td>-0.000480</td>\n",
              "      <td>-0.002611</td>\n",
              "      <td>0.004575</td>\n",
              "      <td>-0.003510</td>\n",
              "      <td>-0.004072</td>\n",
              "      <td>-0.004628</td>\n",
              "      <td>-0.001862</td>\n",
              "      <td>-0.001696</td>\n",
              "      <td>0.002362</td>\n",
              "      <td>-0.003606</td>\n",
              "    </tr>\n",
              "    <tr>\n",
              "      <th>against</th>\n",
              "      <td>-0.009967</td>\n",
              "      <td>-0.007643</td>\n",
              "      <td>0.004602</td>\n",
              "      <td>0.000521</td>\n",
              "      <td>0.003785</td>\n",
              "      <td>-0.001349</td>\n",
              "      <td>-0.003438</td>\n",
              "      <td>0.004291</td>\n",
              "      <td>0.004468</td>\n",
              "      <td>0.003002</td>\n",
              "      <td>...</td>\n",
              "      <td>-0.009964</td>\n",
              "      <td>0.004691</td>\n",
              "      <td>0.008370</td>\n",
              "      <td>0.000709</td>\n",
              "      <td>0.006238</td>\n",
              "      <td>0.003937</td>\n",
              "      <td>0.001491</td>\n",
              "      <td>-0.002045</td>\n",
              "      <td>-0.005886</td>\n",
              "      <td>-0.006449</td>\n",
              "    </tr>\n",
              "    <tr>\n",
              "      <th>hearst</th>\n",
              "      <td>-0.003125</td>\n",
              "      <td>0.009750</td>\n",
              "      <td>-0.001731</td>\n",
              "      <td>0.007303</td>\n",
              "      <td>0.002016</td>\n",
              "      <td>0.003446</td>\n",
              "      <td>0.002105</td>\n",
              "      <td>0.008277</td>\n",
              "      <td>-0.007070</td>\n",
              "      <td>-0.002480</td>\n",
              "      <td>...</td>\n",
              "      <td>0.000783</td>\n",
              "      <td>-0.006759</td>\n",
              "      <td>0.004881</td>\n",
              "      <td>-0.001818</td>\n",
              "      <td>0.007181</td>\n",
              "      <td>0.005835</td>\n",
              "      <td>0.003559</td>\n",
              "      <td>-0.009807</td>\n",
              "      <td>-0.007202</td>\n",
              "      <td>-0.006572</td>\n",
              "    </tr>\n",
              "    <tr>\n",
              "      <th>tuýp</th>\n",
              "      <td>0.005596</td>\n",
              "      <td>0.007377</td>\n",
              "      <td>0.009056</td>\n",
              "      <td>0.005736</td>\n",
              "      <td>-0.009418</td>\n",
              "      <td>0.008635</td>\n",
              "      <td>0.002018</td>\n",
              "      <td>0.000165</td>\n",
              "      <td>-0.008882</td>\n",
              "      <td>0.009159</td>\n",
              "      <td>...</td>\n",
              "      <td>-0.000595</td>\n",
              "      <td>0.000114</td>\n",
              "      <td>-0.003915</td>\n",
              "      <td>0.009779</td>\n",
              "      <td>0.009553</td>\n",
              "      <td>0.004026</td>\n",
              "      <td>0.005679</td>\n",
              "      <td>-0.006388</td>\n",
              "      <td>-0.000230</td>\n",
              "      <td>0.003119</td>\n",
              "    </tr>\n",
              "    <tr>\n",
              "      <th>ability</th>\n",
              "      <td>0.009945</td>\n",
              "      <td>0.004033</td>\n",
              "      <td>0.009307</td>\n",
              "      <td>-0.009299</td>\n",
              "      <td>0.003471</td>\n",
              "      <td>-0.000644</td>\n",
              "      <td>0.006047</td>\n",
              "      <td>0.003008</td>\n",
              "      <td>-0.007457</td>\n",
              "      <td>-0.004182</td>\n",
              "      <td>...</td>\n",
              "      <td>0.000355</td>\n",
              "      <td>-0.008300</td>\n",
              "      <td>0.006004</td>\n",
              "      <td>0.004647</td>\n",
              "      <td>0.009110</td>\n",
              "      <td>0.004154</td>\n",
              "      <td>0.001491</td>\n",
              "      <td>-0.001463</td>\n",
              "      <td>0.006826</td>\n",
              "      <td>0.002105</td>\n",
              "    </tr>\n",
              "    <tr>\n",
              "      <th>blaine</th>\n",
              "      <td>0.004178</td>\n",
              "      <td>-0.006896</td>\n",
              "      <td>-0.007442</td>\n",
              "      <td>0.004260</td>\n",
              "      <td>0.008697</td>\n",
              "      <td>-0.004273</td>\n",
              "      <td>-0.005074</td>\n",
              "      <td>0.001846</td>\n",
              "      <td>-0.006343</td>\n",
              "      <td>-0.002935</td>\n",
              "      <td>...</td>\n",
              "      <td>0.006112</td>\n",
              "      <td>-0.005127</td>\n",
              "      <td>0.000953</td>\n",
              "      <td>0.002544</td>\n",
              "      <td>-0.005367</td>\n",
              "      <td>-0.007270</td>\n",
              "      <td>-0.005845</td>\n",
              "      <td>-0.004661</td>\n",
              "      <td>-0.001139</td>\n",
              "      <td>-0.001240</td>\n",
              "    </tr>\n",
              "    <tr>\n",
              "      <th>amiral</th>\n",
              "      <td>-0.000144</td>\n",
              "      <td>0.001471</td>\n",
              "      <td>-0.005547</td>\n",
              "      <td>0.008115</td>\n",
              "      <td>0.004213</td>\n",
              "      <td>-0.007777</td>\n",
              "      <td>0.007686</td>\n",
              "      <td>0.005261</td>\n",
              "      <td>-0.009302</td>\n",
              "      <td>0.003383</td>\n",
              "      <td>...</td>\n",
              "      <td>0.005043</td>\n",
              "      <td>-0.008660</td>\n",
              "      <td>-0.004592</td>\n",
              "      <td>0.007984</td>\n",
              "      <td>0.002311</td>\n",
              "      <td>0.001753</td>\n",
              "      <td>-0.009300</td>\n",
              "      <td>0.009960</td>\n",
              "      <td>0.002934</td>\n",
              "      <td>-0.007738</td>\n",
              "    </tr>\n",
              "    <tr>\n",
              "      <th>preobrazhenskoe</th>\n",
              "      <td>0.008624</td>\n",
              "      <td>0.002354</td>\n",
              "      <td>0.007895</td>\n",
              "      <td>0.009862</td>\n",
              "      <td>-0.004184</td>\n",
              "      <td>0.008170</td>\n",
              "      <td>0.002578</td>\n",
              "      <td>-0.004139</td>\n",
              "      <td>0.003646</td>\n",
              "      <td>-0.001696</td>\n",
              "      <td>...</td>\n",
              "      <td>-0.003952</td>\n",
              "      <td>0.004404</td>\n",
              "      <td>-0.009550</td>\n",
              "      <td>-0.004964</td>\n",
              "      <td>0.003134</td>\n",
              "      <td>-0.007311</td>\n",
              "      <td>-0.000571</td>\n",
              "      <td>-0.006498</td>\n",
              "      <td>-0.003184</td>\n",
              "      <td>-0.005164</td>\n",
              "    </tr>\n",
              "    <tr>\n",
              "      <th>plot</th>\n",
              "      <td>-0.003458</td>\n",
              "      <td>0.006743</td>\n",
              "      <td>-0.002889</td>\n",
              "      <td>0.002577</td>\n",
              "      <td>0.008412</td>\n",
              "      <td>-0.001557</td>\n",
              "      <td>0.009324</td>\n",
              "      <td>0.008567</td>\n",
              "      <td>-0.001457</td>\n",
              "      <td>-0.002126</td>\n",
              "      <td>...</td>\n",
              "      <td>-0.006496</td>\n",
              "      <td>-0.003133</td>\n",
              "      <td>0.000344</td>\n",
              "      <td>0.001892</td>\n",
              "      <td>-0.008032</td>\n",
              "      <td>-0.000587</td>\n",
              "      <td>0.005236</td>\n",
              "      <td>-0.007239</td>\n",
              "      <td>0.000785</td>\n",
              "      <td>0.002685</td>\n",
              "    </tr>\n",
              "    <tr>\n",
              "      <th>việp</th>\n",
              "      <td>-0.007660</td>\n",
              "      <td>0.009026</td>\n",
              "      <td>-0.002028</td>\n",
              "      <td>-0.006885</td>\n",
              "      <td>-0.008597</td>\n",
              "      <td>-0.000579</td>\n",
              "      <td>-0.002909</td>\n",
              "      <td>0.001081</td>\n",
              "      <td>0.002146</td>\n",
              "      <td>-0.008461</td>\n",
              "      <td>...</td>\n",
              "      <td>0.005728</td>\n",
              "      <td>-0.006225</td>\n",
              "      <td>-0.005454</td>\n",
              "      <td>-0.009666</td>\n",
              "      <td>0.007996</td>\n",
              "      <td>-0.008422</td>\n",
              "      <td>0.002221</td>\n",
              "      <td>0.003820</td>\n",
              "      <td>0.004507</td>\n",
              "      <td>-0.009565</td>\n",
              "    </tr>\n",
              "  </tbody>\n",
              "</table>\n",
              "<p>10 rows × 100 columns</p>\n",
              "</div>\n",
              "    <div class=\"colab-df-buttons\">\n",
              "\n",
              "  <div class=\"colab-df-container\">\n",
              "    <button class=\"colab-df-convert\" onclick=\"convertToInteractive('df-ff972749-1e8b-48db-b208-f57db338f95b')\"\n",
              "            title=\"Convert this dataframe to an interactive table.\"\n",
              "            style=\"display:none;\">\n",
              "\n",
              "  <svg xmlns=\"http://www.w3.org/2000/svg\" height=\"24px\" viewBox=\"0 -960 960 960\">\n",
              "    <path d=\"M120-120v-720h720v720H120Zm60-500h600v-160H180v160Zm220 220h160v-160H400v160Zm0 220h160v-160H400v160ZM180-400h160v-160H180v160Zm440 0h160v-160H620v160ZM180-180h160v-160H180v160Zm440 0h160v-160H620v160Z\"/>\n",
              "  </svg>\n",
              "    </button>\n",
              "\n",
              "  <style>\n",
              "    .colab-df-container {\n",
              "      display:flex;\n",
              "      gap: 12px;\n",
              "    }\n",
              "\n",
              "    .colab-df-convert {\n",
              "      background-color: #E8F0FE;\n",
              "      border: none;\n",
              "      border-radius: 50%;\n",
              "      cursor: pointer;\n",
              "      display: none;\n",
              "      fill: #1967D2;\n",
              "      height: 32px;\n",
              "      padding: 0 0 0 0;\n",
              "      width: 32px;\n",
              "    }\n",
              "\n",
              "    .colab-df-convert:hover {\n",
              "      background-color: #E2EBFA;\n",
              "      box-shadow: 0px 1px 2px rgba(60, 64, 67, 0.3), 0px 1px 3px 1px rgba(60, 64, 67, 0.15);\n",
              "      fill: #174EA6;\n",
              "    }\n",
              "\n",
              "    .colab-df-buttons div {\n",
              "      margin-bottom: 4px;\n",
              "    }\n",
              "\n",
              "    [theme=dark] .colab-df-convert {\n",
              "      background-color: #3B4455;\n",
              "      fill: #D2E3FC;\n",
              "    }\n",
              "\n",
              "    [theme=dark] .colab-df-convert:hover {\n",
              "      background-color: #434B5C;\n",
              "      box-shadow: 0px 1px 3px 1px rgba(0, 0, 0, 0.15);\n",
              "      filter: drop-shadow(0px 1px 2px rgba(0, 0, 0, 0.3));\n",
              "      fill: #FFFFFF;\n",
              "    }\n",
              "  </style>\n",
              "\n",
              "    <script>\n",
              "      const buttonEl =\n",
              "        document.querySelector('#df-ff972749-1e8b-48db-b208-f57db338f95b button.colab-df-convert');\n",
              "      buttonEl.style.display =\n",
              "        google.colab.kernel.accessAllowed ? 'block' : 'none';\n",
              "\n",
              "      async function convertToInteractive(key) {\n",
              "        const element = document.querySelector('#df-ff972749-1e8b-48db-b208-f57db338f95b');\n",
              "        const dataTable =\n",
              "          await google.colab.kernel.invokeFunction('convertToInteractive',\n",
              "                                                    [key], {});\n",
              "        if (!dataTable) return;\n",
              "\n",
              "        const docLinkHtml = 'Like what you see? Visit the ' +\n",
              "          '<a target=\"_blank\" href=https://colab.research.google.com/notebooks/data_table.ipynb>data table notebook</a>'\n",
              "          + ' to learn more about interactive tables.';\n",
              "        element.innerHTML = '';\n",
              "        dataTable['output_type'] = 'display_data';\n",
              "        await google.colab.output.renderOutput(dataTable, element);\n",
              "        const docLink = document.createElement('div');\n",
              "        docLink.innerHTML = docLinkHtml;\n",
              "        element.appendChild(docLink);\n",
              "      }\n",
              "    </script>\n",
              "  </div>\n",
              "\n",
              "\n",
              "    <div id=\"df-f32ff338-37d8-4036-add8-f3dbf12cd430\">\n",
              "      <button class=\"colab-df-quickchart\" onclick=\"quickchart('df-f32ff338-37d8-4036-add8-f3dbf12cd430')\"\n",
              "                title=\"Suggest charts\"\n",
              "                style=\"display:none;\">\n",
              "\n",
              "<svg xmlns=\"http://www.w3.org/2000/svg\" height=\"24px\"viewBox=\"0 0 24 24\"\n",
              "     width=\"24px\">\n",
              "    <g>\n",
              "        <path d=\"M19 3H5c-1.1 0-2 .9-2 2v14c0 1.1.9 2 2 2h14c1.1 0 2-.9 2-2V5c0-1.1-.9-2-2-2zM9 17H7v-7h2v7zm4 0h-2V7h2v10zm4 0h-2v-4h2v4z\"/>\n",
              "    </g>\n",
              "</svg>\n",
              "      </button>\n",
              "\n",
              "<style>\n",
              "  .colab-df-quickchart {\n",
              "      --bg-color: #E8F0FE;\n",
              "      --fill-color: #1967D2;\n",
              "      --hover-bg-color: #E2EBFA;\n",
              "      --hover-fill-color: #174EA6;\n",
              "      --disabled-fill-color: #AAA;\n",
              "      --disabled-bg-color: #DDD;\n",
              "  }\n",
              "\n",
              "  [theme=dark] .colab-df-quickchart {\n",
              "      --bg-color: #3B4455;\n",
              "      --fill-color: #D2E3FC;\n",
              "      --hover-bg-color: #434B5C;\n",
              "      --hover-fill-color: #FFFFFF;\n",
              "      --disabled-bg-color: #3B4455;\n",
              "      --disabled-fill-color: #666;\n",
              "  }\n",
              "\n",
              "  .colab-df-quickchart {\n",
              "    background-color: var(--bg-color);\n",
              "    border: none;\n",
              "    border-radius: 50%;\n",
              "    cursor: pointer;\n",
              "    display: none;\n",
              "    fill: var(--fill-color);\n",
              "    height: 32px;\n",
              "    padding: 0;\n",
              "    width: 32px;\n",
              "  }\n",
              "\n",
              "  .colab-df-quickchart:hover {\n",
              "    background-color: var(--hover-bg-color);\n",
              "    box-shadow: 0 1px 2px rgba(60, 64, 67, 0.3), 0 1px 3px 1px rgba(60, 64, 67, 0.15);\n",
              "    fill: var(--button-hover-fill-color);\n",
              "  }\n",
              "\n",
              "  .colab-df-quickchart-complete:disabled,\n",
              "  .colab-df-quickchart-complete:disabled:hover {\n",
              "    background-color: var(--disabled-bg-color);\n",
              "    fill: var(--disabled-fill-color);\n",
              "    box-shadow: none;\n",
              "  }\n",
              "\n",
              "  .colab-df-spinner {\n",
              "    border: 2px solid var(--fill-color);\n",
              "    border-color: transparent;\n",
              "    border-bottom-color: var(--fill-color);\n",
              "    animation:\n",
              "      spin 1s steps(1) infinite;\n",
              "  }\n",
              "\n",
              "  @keyframes spin {\n",
              "    0% {\n",
              "      border-color: transparent;\n",
              "      border-bottom-color: var(--fill-color);\n",
              "      border-left-color: var(--fill-color);\n",
              "    }\n",
              "    20% {\n",
              "      border-color: transparent;\n",
              "      border-left-color: var(--fill-color);\n",
              "      border-top-color: var(--fill-color);\n",
              "    }\n",
              "    30% {\n",
              "      border-color: transparent;\n",
              "      border-left-color: var(--fill-color);\n",
              "      border-top-color: var(--fill-color);\n",
              "      border-right-color: var(--fill-color);\n",
              "    }\n",
              "    40% {\n",
              "      border-color: transparent;\n",
              "      border-right-color: var(--fill-color);\n",
              "      border-top-color: var(--fill-color);\n",
              "    }\n",
              "    60% {\n",
              "      border-color: transparent;\n",
              "      border-right-color: var(--fill-color);\n",
              "    }\n",
              "    80% {\n",
              "      border-color: transparent;\n",
              "      border-right-color: var(--fill-color);\n",
              "      border-bottom-color: var(--fill-color);\n",
              "    }\n",
              "    90% {\n",
              "      border-color: transparent;\n",
              "      border-bottom-color: var(--fill-color);\n",
              "    }\n",
              "  }\n",
              "</style>\n",
              "\n",
              "      <script>\n",
              "        async function quickchart(key) {\n",
              "          const quickchartButtonEl =\n",
              "            document.querySelector('#' + key + ' button');\n",
              "          quickchartButtonEl.disabled = true;  // To prevent multiple clicks.\n",
              "          quickchartButtonEl.classList.add('colab-df-spinner');\n",
              "          try {\n",
              "            const charts = await google.colab.kernel.invokeFunction(\n",
              "                'suggestCharts', [key], {});\n",
              "          } catch (error) {\n",
              "            console.error('Error during call to suggestCharts:', error);\n",
              "          }\n",
              "          quickchartButtonEl.classList.remove('colab-df-spinner');\n",
              "          quickchartButtonEl.classList.add('colab-df-quickchart-complete');\n",
              "        }\n",
              "        (() => {\n",
              "          let quickchartButtonEl =\n",
              "            document.querySelector('#df-f32ff338-37d8-4036-add8-f3dbf12cd430 button');\n",
              "          quickchartButtonEl.style.display =\n",
              "            google.colab.kernel.accessAllowed ? 'block' : 'none';\n",
              "        })();\n",
              "      </script>\n",
              "    </div>\n",
              "\n",
              "  <div id=\"id_b89d7775-3abc-4ea1-a9c5-e5b3eb3c053d\">\n",
              "    <style>\n",
              "      .colab-df-generate {\n",
              "        background-color: #E8F0FE;\n",
              "        border: none;\n",
              "        border-radius: 50%;\n",
              "        cursor: pointer;\n",
              "        display: none;\n",
              "        fill: #1967D2;\n",
              "        height: 32px;\n",
              "        padding: 0 0 0 0;\n",
              "        width: 32px;\n",
              "      }\n",
              "\n",
              "      .colab-df-generate:hover {\n",
              "        background-color: #E2EBFA;\n",
              "        box-shadow: 0px 1px 2px rgba(60, 64, 67, 0.3), 0px 1px 3px 1px rgba(60, 64, 67, 0.15);\n",
              "        fill: #174EA6;\n",
              "      }\n",
              "\n",
              "      [theme=dark] .colab-df-generate {\n",
              "        background-color: #3B4455;\n",
              "        fill: #D2E3FC;\n",
              "      }\n",
              "\n",
              "      [theme=dark] .colab-df-generate:hover {\n",
              "        background-color: #434B5C;\n",
              "        box-shadow: 0px 1px 3px 1px rgba(0, 0, 0, 0.15);\n",
              "        filter: drop-shadow(0px 1px 2px rgba(0, 0, 0, 0.3));\n",
              "        fill: #FFFFFF;\n",
              "      }\n",
              "    </style>\n",
              "    <button class=\"colab-df-generate\" onclick=\"generateWithVariable('df')\"\n",
              "            title=\"Generate code using this dataframe.\"\n",
              "            style=\"display:none;\">\n",
              "\n",
              "  <svg xmlns=\"http://www.w3.org/2000/svg\" height=\"24px\"viewBox=\"0 0 24 24\"\n",
              "       width=\"24px\">\n",
              "    <path d=\"M7,19H8.4L18.45,9,17,7.55,7,17.6ZM5,21V16.75L18.45,3.32a2,2,0,0,1,2.83,0l1.4,1.43a1.91,1.91,0,0,1,.58,1.4,1.91,1.91,0,0,1-.58,1.4L9.25,21ZM18.45,9,17,7.55Zm-12,3A5.31,5.31,0,0,0,4.9,8.1,5.31,5.31,0,0,0,1,6.5,5.31,5.31,0,0,0,4.9,4.9,5.31,5.31,0,0,0,6.5,1,5.31,5.31,0,0,0,8.1,4.9,5.31,5.31,0,0,0,12,6.5,5.46,5.46,0,0,0,6.5,12Z\"/>\n",
              "  </svg>\n",
              "    </button>\n",
              "    <script>\n",
              "      (() => {\n",
              "      const buttonEl =\n",
              "        document.querySelector('#id_b89d7775-3abc-4ea1-a9c5-e5b3eb3c053d button.colab-df-generate');\n",
              "      buttonEl.style.display =\n",
              "        google.colab.kernel.accessAllowed ? 'block' : 'none';\n",
              "\n",
              "      buttonEl.onclick = () => {\n",
              "        google.colab.notebook.generateWithVariable('df');\n",
              "      }\n",
              "      })();\n",
              "    </script>\n",
              "  </div>\n",
              "\n",
              "    </div>\n",
              "  </div>\n"
            ],
            "application/vnd.google.colaboratory.intrinsic+json": {
              "type": "dataframe",
              "variable_name": "df"
            }
          },
          "metadata": {}
        }
      ]
    },
    {
      "cell_type": "code",
      "source": [
        "import seaborn as sns\n",
        "import matplotlib.pyplot as plt\n",
        "import pandas as pd\n",
        "# Plot heatmap\n",
        "plt.figure(figsize=(16, 8))\n",
        "sns.heatmap(df, cmap=\"coolwarm\", annot=False, cbar=True)\n",
        "plt.title(\"Word Embeddings Heatmap\")\n",
        "plt.xlabel(\"Embedding dimensions\")\n",
        "plt.ylabel(\"Words\")\n",
        "plt.show()\n"
      ],
      "metadata": {
        "colab": {
          "base_uri": "https://localhost:8080/",
          "height": 718
        },
        "id": "GryxbtJArNZm",
        "outputId": "9bb1dee8-b435-421d-ac06-005b3673bde6"
      },
      "execution_count": 36,
      "outputs": [
        {
          "output_type": "display_data",
          "data": {
            "text/plain": [
              "<Figure size 1600x800 with 2 Axes>"
            ],
            "image/png": "[encoded data removed]"
          },
          "metadata": {}
        }
      ]
    },
    {
      "cell_type": "code",
      "source": [],
      "metadata": {
        "id": "MVHJ9c78rgUn"
      },
      "execution_count": null,
      "outputs": []
    }
  ]
}