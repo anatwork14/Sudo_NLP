{
 "cells": [
  {
   "cell_type": "code",
   "execution_count": null,
   "id": "0a7e33ea",
   "metadata": {},
   "outputs": [],
   "source": [
    "import os\n",
    "import pandas as pd\n",
    "from underthesea import word_tokenize\n",
    "from tqdm import tqdm\n",
    "from tensorflow.keras.preprocessing.text import Tokenizer\n",
    "from tensorflow.keras.preprocessing.sequence import pad_sequences\n",
    "import numpy as np\n",
    "from tensorflow.keras.utils import to_categorical\n",
    "from tensorflow.keras.models import Sequential\n",
    "from tensorflow.keras.layers import Embedding, Bidirectional, LSTM, Dense, Dropout\n",
    "from sklearn.metrics import accuracy_score, f1_score"
   ]
  },
  {
   "cell_type": "markdown",
   "id": "d63ec7a9",
   "metadata": {},
   "source": [
    "# **Data Loading**\n"
   ]
  },
  {
   "cell_type": "code",
   "execution_count": 52,
   "id": "c74ac056",
   "metadata": {},
   "outputs": [],
   "source": [
    "def load_data(base_path='Train_Full'):\n",
    "    data = []\n",
    "    document_categories = [d for d in os.listdir(base_path) if os.path.isdir(os.path.join(base_path, d))]\n",
    "    for category in tqdm(document_categories, desc=\"Loading categories\"):\n",
    "        category_path = os.path.join(base_path, category)\n",
    "        print(category_path)\n",
    "        for file_name in tqdm(os.listdir(category_path), desc=f\"Loading {category}\", leave=False):\n",
    "            file_path = os.path.join(category_path, file_name)\n",
    "            with open(file_path, 'r', encoding='utf-16') as f:\n",
    "                text = f.read().strip()\n",
    "            token_document = word_tokenize(text)\n",
    "            process_document = ' '.join(token_document)\n",
    "            data.append({'content': process_document, 'category': category})\n",
    "    df = pd.DataFrame(data)\n",
    "    return df, document_categories"
   ]
  },
  {
   "cell_type": "code",
   "execution_count": 53,
   "id": "ac927972",
   "metadata": {},
   "outputs": [
    {
     "name": "stderr",
     "output_type": "stream",
     "text": [
      "Loading categories:   0%|          | 0/10 [00:00<?, ?it/s]"
     ]
    },
    {
     "name": "stdout",
     "output_type": "stream",
     "text": [
      "Train_Full\\Chinh tri Xa hoi\n"
     ]
    },
    {
     "name": "stderr",
     "output_type": "stream",
     "text": [
      "Loading categories:  10%|█         | 1/10 [01:47<16:07, 107.50s/it]"
     ]
    },
    {
     "name": "stdout",
     "output_type": "stream",
     "text": [
      "Train_Full\\Doi song\n"
     ]
    },
    {
     "name": "stderr",
     "output_type": "stream",
     "text": [
      "Loading categories:  20%|██        | 2/10 [03:17<12:57, 97.20s/it] "
     ]
    },
    {
     "name": "stdout",
     "output_type": "stream",
     "text": [
      "Train_Full\\Khoa hoc\n"
     ]
    },
    {
     "name": "stderr",
     "output_type": "stream",
     "text": [
      "Loading categories:  30%|███       | 3/10 [04:33<10:13, 87.69s/it]"
     ]
    },
    {
     "name": "stdout",
     "output_type": "stream",
     "text": [
      "Train_Full\\Kinh doanh\n"
     ]
    },
    {
     "name": "stderr",
     "output_type": "stream",
     "text": [
      "Loading categories:  40%|████      | 4/10 [06:18<09:25, 94.33s/it]"
     ]
    },
    {
     "name": "stdout",
     "output_type": "stream",
     "text": [
      "Train_Full\\Phap luat\n"
     ]
    },
    {
     "name": "stderr",
     "output_type": "stream",
     "text": [
      "Loading categories:  50%|█████     | 5/10 [08:48<09:32, 114.56s/it]"
     ]
    },
    {
     "name": "stdout",
     "output_type": "stream",
     "text": [
      "Train_Full\\Suc khoe\n"
     ]
    },
    {
     "name": "stderr",
     "output_type": "stream",
     "text": [
      "Loading categories:  60%|██████    | 6/10 [11:06<08:09, 122.27s/it]"
     ]
    },
    {
     "name": "stdout",
     "output_type": "stream",
     "text": [
      "Train_Full\\The gioi\n"
     ]
    },
    {
     "name": "stderr",
     "output_type": "stream",
     "text": [
      "Loading categories:  70%|███████   | 7/10 [12:42<05:41, 113.82s/it]"
     ]
    },
    {
     "name": "stdout",
     "output_type": "stream",
     "text": [
      "Train_Full\\The thao\n"
     ]
    },
    {
     "name": "stderr",
     "output_type": "stream",
     "text": [
      "Loading categories:  80%|████████  | 8/10 [16:58<05:18, 159.19s/it]"
     ]
    },
    {
     "name": "stdout",
     "output_type": "stream",
     "text": [
      "Train_Full\\Van hoa\n"
     ]
    },
    {
     "name": "stderr",
     "output_type": "stream",
     "text": [
      "Loading categories:  90%|█████████ | 9/10 [19:12<02:31, 151.30s/it]"
     ]
    },
    {
     "name": "stdout",
     "output_type": "stream",
     "text": [
      "Train_Full\\Vi tinh\n"
     ]
    },
    {
     "name": "stderr",
     "output_type": "stream",
     "text": [
      "Loading categories: 100%|██████████| 10/10 [20:29<00:00, 122.96s/it]\n",
      "Loading categories:   0%|          | 0/10 [00:00<?, ?it/s]"
     ]
    },
    {
     "name": "stdout",
     "output_type": "stream",
     "text": [
      "Test_Full\\Chinh tri Xa hoi\n"
     ]
    },
    {
     "name": "stderr",
     "output_type": "stream",
     "text": [
      "Loading categories:  10%|█         | 1/10 [04:54<44:08, 294.30s/it]"
     ]
    },
    {
     "name": "stdout",
     "output_type": "stream",
     "text": [
      "Test_Full\\Doi song\n"
     ]
    },
    {
     "name": "stderr",
     "output_type": "stream",
     "text": [
      "Loading categories:  20%|██        | 2/10 [06:59<25:58, 194.83s/it]"
     ]
    },
    {
     "name": "stdout",
     "output_type": "stream",
     "text": [
      "Test_Full\\Khoa hoc\n"
     ]
    },
    {
     "name": "stderr",
     "output_type": "stream",
     "text": [
      "Loading categories:  30%|███       | 3/10 [08:26<17:00, 145.73s/it]"
     ]
    },
    {
     "name": "stdout",
     "output_type": "stream",
     "text": [
      "Test_Full\\Kinh doanh\n"
     ]
    },
    {
     "name": "stderr",
     "output_type": "stream",
     "text": [
      "Loading categories:  40%|████      | 4/10 [12:01<17:17, 172.98s/it]"
     ]
    },
    {
     "name": "stdout",
     "output_type": "stream",
     "text": [
      "Test_Full\\Phap luat\n"
     ]
    },
    {
     "name": "stderr",
     "output_type": "stream",
     "text": [
      "Loading categories:  50%|█████     | 5/10 [14:13<13:11, 158.20s/it]"
     ]
    },
    {
     "name": "stdout",
     "output_type": "stream",
     "text": [
      "Test_Full\\Suc khoe\n"
     ]
    },
    {
     "name": "stderr",
     "output_type": "stream",
     "text": [
      "Loading categories:  60%|██████    | 6/10 [17:46<11:47, 176.77s/it]"
     ]
    },
    {
     "name": "stdout",
     "output_type": "stream",
     "text": [
      "Test_Full\\The gioi\n"
     ]
    },
    {
     "name": "stderr",
     "output_type": "stream",
     "text": [
      "Loading categories:  70%|███████   | 7/10 [21:18<09:25, 188.39s/it]"
     ]
    },
    {
     "name": "stdout",
     "output_type": "stream",
     "text": [
      "Test_Full\\The thao\n"
     ]
    },
    {
     "name": "stderr",
     "output_type": "stream",
     "text": [
      "Loading categories:  80%|████████  | 8/10 [27:04<07:57, 238.63s/it]"
     ]
    },
    {
     "name": "stdout",
     "output_type": "stream",
     "text": [
      "Test_Full\\Van hoa\n"
     ]
    },
    {
     "name": "stderr",
     "output_type": "stream",
     "text": [
      "Loading categories:  90%|█████████ | 9/10 [31:57<04:15, 255.56s/it]"
     ]
    },
    {
     "name": "stdout",
     "output_type": "stream",
     "text": [
      "Test_Full\\Vi tinh\n"
     ]
    },
    {
     "name": "stderr",
     "output_type": "stream",
     "text": [
      "Loading categories: 100%|██████████| 10/10 [34:41<00:00, 208.16s/it]\n"
     ]
    }
   ],
   "source": [
    "train_df, categories = load_data('Train_Full')\n",
    "test_df, _ = load_data('Test_Full')"
   ]
  },
  {
   "cell_type": "code",
   "execution_count": 54,
   "id": "7a5633ad",
   "metadata": {},
   "outputs": [
    {
     "data": {
      "text/html": [
       "<div>\n",
       "<style scoped>\n",
       "    .dataframe tbody tr th:only-of-type {\n",
       "        vertical-align: middle;\n",
       "    }\n",
       "\n",
       "    .dataframe tbody tr th {\n",
       "        vertical-align: top;\n",
       "    }\n",
       "\n",
       "    .dataframe thead th {\n",
       "        text-align: right;\n",
       "    }\n",
       "</style>\n",
       "<table border=\"1\" class=\"dataframe\">\n",
       "  <thead>\n",
       "    <tr style=\"text-align: right;\">\n",
       "      <th></th>\n",
       "      <th>content</th>\n",
       "      <th>category</th>\n",
       "    </tr>\n",
       "  </thead>\n",
       "  <tbody>\n",
       "    <tr>\n",
       "      <th>5214</th>\n",
       "      <td>9.500 USD để du học thành du ngoạn Thủy đang h...</td>\n",
       "      <td>Chinh tri Xa hoi</td>\n",
       "    </tr>\n",
       "    <tr>\n",
       "      <th>5215</th>\n",
       "      <td>Nghiêm cấm giao đất trong hành lang đường Hồ C...</td>\n",
       "      <td>Chinh tri Xa hoi</td>\n",
       "    </tr>\n",
       "    <tr>\n",
       "      <th>5216</th>\n",
       "      <td>Chùm ảnh hoa Đà Lạt Thành phố Đà Lạt đã chọn 7...</td>\n",
       "      <td>Chinh tri Xa hoi</td>\n",
       "    </tr>\n",
       "    <tr>\n",
       "      <th>5217</th>\n",
       "      <td>Làm văn bằng qua ... tin nhắn Bạn muốn có chứn...</td>\n",
       "      <td>Chinh tri Xa hoi</td>\n",
       "    </tr>\n",
       "    <tr>\n",
       "      <th>5218</th>\n",
       "      <td>Du khách đến miền Trung xem lũ lụt Trong những...</td>\n",
       "      <td>Chinh tri Xa hoi</td>\n",
       "    </tr>\n",
       "  </tbody>\n",
       "</table>\n",
       "</div>"
      ],
      "text/plain": [
       "                                                content          category\n",
       "5214  9.500 USD để du học thành du ngoạn Thủy đang h...  Chinh tri Xa hoi\n",
       "5215  Nghiêm cấm giao đất trong hành lang đường Hồ C...  Chinh tri Xa hoi\n",
       "5216  Chùm ảnh hoa Đà Lạt Thành phố Đà Lạt đã chọn 7...  Chinh tri Xa hoi\n",
       "5217  Làm văn bằng qua ... tin nhắn Bạn muốn có chứn...  Chinh tri Xa hoi\n",
       "5218  Du khách đến miền Trung xem lũ lụt Trong những...  Chinh tri Xa hoi"
      ]
     },
     "execution_count": 54,
     "metadata": {},
     "output_type": "execute_result"
    }
   ],
   "source": [
    "df.tail()"
   ]
  },
  {
   "cell_type": "code",
   "execution_count": 55,
   "id": "7fb3875a",
   "metadata": {},
   "outputs": [
    {
     "name": "stdout",
     "output_type": "stream",
     "text": [
      "Categories: ['Chinh tri Xa hoi', 'Doi song', 'Khoa hoc', 'Kinh doanh', 'Phap luat', 'Suc khoe', 'The gioi', 'The thao', 'Van hoa', 'Vi tinh']\n"
     ]
    }
   ],
   "source": [
    "print(f\"Categories: {categories}\")"
   ]
  },
  {
   "cell_type": "code",
   "execution_count": 56,
   "id": "9fde13f8",
   "metadata": {},
   "outputs": [
    {
     "name": "stdout",
     "output_type": "stream",
     "text": [
      "Training Sample: 33759\n",
      "Testing Sample: 50373\n"
     ]
    }
   ],
   "source": [
    "print(f\"Training Sample: {len(train_df)}\")\n",
    "print(f\"Testing Sample: {len(test_df)}\")"
   ]
  },
  {
   "cell_type": "code",
   "execution_count": 57,
   "id": "f135b008",
   "metadata": {},
   "outputs": [
    {
     "name": "stdout",
     "output_type": "stream",
     "text": [
      "{0: 'Chinh tri Xa hoi', 1: 'Doi song', 2: 'Khoa hoc', 3: 'Kinh doanh', 4: 'Phap luat', 5: 'Suc khoe', 6: 'The gioi', 7: 'The thao', 8: 'Van hoa', 9: 'Vi tinh'}\n"
     ]
    }
   ],
   "source": [
    "category_to_id = {category: idx for idx, category in enumerate(categories)}\n",
    "id_to_category = {idx: category for category, idx in category_to_id.items()}\n",
    "print(id_to_category)"
   ]
  },
  {
   "cell_type": "code",
   "execution_count": 58,
   "id": "7868f143",
   "metadata": {},
   "outputs": [],
   "source": [
    "train_df['category_id'] = train_df['category'].map(category_to_id)\n",
    "test_df['category_id'] = test_df['category'].map(category_to_id)"
   ]
  },
  {
   "cell_type": "code",
   "execution_count": 59,
   "id": "92050f85",
   "metadata": {},
   "outputs": [
    {
     "data": {
      "text/html": [
       "<div>\n",
       "<style scoped>\n",
       "    .dataframe tbody tr th:only-of-type {\n",
       "        vertical-align: middle;\n",
       "    }\n",
       "\n",
       "    .dataframe tbody tr th {\n",
       "        vertical-align: top;\n",
       "    }\n",
       "\n",
       "    .dataframe thead th {\n",
       "        text-align: right;\n",
       "    }\n",
       "</style>\n",
       "<table border=\"1\" class=\"dataframe\">\n",
       "  <thead>\n",
       "    <tr style=\"text-align: right;\">\n",
       "      <th></th>\n",
       "      <th>content</th>\n",
       "      <th>category</th>\n",
       "      <th>category_id</th>\n",
       "    </tr>\n",
       "  </thead>\n",
       "  <tbody>\n",
       "    <tr>\n",
       "      <th>0</th>\n",
       "      <td>Thành lập dự án POLICY phòng chống HIV / AIDS ...</td>\n",
       "      <td>Chinh tri Xa hoi</td>\n",
       "      <td>0</td>\n",
       "    </tr>\n",
       "    <tr>\n",
       "      <th>1</th>\n",
       "      <td>Hơn 16.000 khách đến vịnh Nha Trang Theo trực ...</td>\n",
       "      <td>Chinh tri Xa hoi</td>\n",
       "      <td>0</td>\n",
       "    </tr>\n",
       "    <tr>\n",
       "      <th>2</th>\n",
       "      <td>TPHCM : Khai trương dịch vụ lặn biển săn cá mậ...</td>\n",
       "      <td>Chinh tri Xa hoi</td>\n",
       "      <td>0</td>\n",
       "    </tr>\n",
       "    <tr>\n",
       "      <th>3</th>\n",
       "      <td>Du lịch VN sẽ có tư vấn nước ngoài Ông Phạm Từ...</td>\n",
       "      <td>Chinh tri Xa hoi</td>\n",
       "      <td>0</td>\n",
       "    </tr>\n",
       "    <tr>\n",
       "      <th>4</th>\n",
       "      <td>Quy chế tuyển sinh 2006 : Không làm tròn điểm ...</td>\n",
       "      <td>Chinh tri Xa hoi</td>\n",
       "      <td>0</td>\n",
       "    </tr>\n",
       "  </tbody>\n",
       "</table>\n",
       "</div>"
      ],
      "text/plain": [
       "                                             content          category  \\\n",
       "0  Thành lập dự án POLICY phòng chống HIV / AIDS ...  Chinh tri Xa hoi   \n",
       "1  Hơn 16.000 khách đến vịnh Nha Trang Theo trực ...  Chinh tri Xa hoi   \n",
       "2  TPHCM : Khai trương dịch vụ lặn biển săn cá mậ...  Chinh tri Xa hoi   \n",
       "3  Du lịch VN sẽ có tư vấn nước ngoài Ông Phạm Từ...  Chinh tri Xa hoi   \n",
       "4  Quy chế tuyển sinh 2006 : Không làm tròn điểm ...  Chinh tri Xa hoi   \n",
       "\n",
       "   category_id  \n",
       "0            0  \n",
       "1            0  \n",
       "2            0  \n",
       "3            0  \n",
       "4            0  "
      ]
     },
     "execution_count": 59,
     "metadata": {},
     "output_type": "execute_result"
    }
   ],
   "source": [
    "train_df.head()"
   ]
  },
  {
   "cell_type": "code",
   "execution_count": 60,
   "id": "8fd1c635",
   "metadata": {},
   "outputs": [],
   "source": [
    "# Combine for vocabulary building\n",
    "all_texts = pd.concat([train_df['content'], test_df['content']])"
   ]
  },
  {
   "cell_type": "code",
   "execution_count": 61,
   "id": "74f25695",
   "metadata": {},
   "outputs": [],
   "source": [
    "train_texts = train_df['content'].values\n",
    "train_categories = train_df['category_id'].values\n",
    "test_texts = test_df['content'].values\n",
    "test_categories= test_df['category_id'].values"
   ]
  },
  {
   "cell_type": "markdown",
   "id": "628d1b61",
   "metadata": {},
   "source": [
    "# **📌 Document Classification Task**\n",
    "\n",
    "Goal: Classify a document into one of the categories defined in the categories variable.\n",
    "\n",
    "🔹 Dataset\n",
    "\n",
    "- The dataset df consists of sequential text data.\n",
    "- The order of words is crucial since it determines the overall meaning.\n",
    "\n",
    "🔹 Model Choice\n",
    "\n",
    "- ✅ LSTM (Long Short-Term Memory), a type of Recurrent Neural Network (RNN), is chosen to effectively capture the temporal dependencies in the text.\n"
   ]
  },
  {
   "cell_type": "markdown",
   "id": "90cc915d",
   "metadata": {},
   "source": [
    "## Preprocessing\n",
    "\n",
    "- Sequences matter: word order changes meaning (\"good\" ≠ \"not good\"), so LSTMs need sequential input.\n",
    "\n",
    "- Tokenizer: maps words → integer IDs.\n",
    "\n",
    "- Sequences: represent each document as ordered word IDs.\n",
    "\n",
    "- Padding/Truncating: makes all sequences the same length for batching.\n",
    "\n",
    "- Labels: converted to NumPy arrays for training.\n",
    "\n",
    "- Converted labels into one-hot vectors for categorical crossentropy.\n"
   ]
  },
  {
   "cell_type": "code",
   "execution_count": 62,
   "id": "412320dc",
   "metadata": {},
   "outputs": [],
   "source": [
    "# Parameters\n",
    "vocab_size = 20000  # VNTC has ~30k unique words typically\n",
    "max_length = 300  # Max sequence length; articles are ~200-500 words --> use for pad/truncate when articles > or < max_length"
   ]
  },
  {
   "cell_type": "code",
   "execution_count": 63,
   "id": "ecbb879d",
   "metadata": {},
   "outputs": [],
   "source": [
    "# oov_token: handles words not in the vocabulary by replacing them with a special token (avoids errors)\n",
    "tokenizer = Tokenizer(num_words=vocab_size, oov_token='<OOV>')\n",
    "tokenizer.fit_on_texts(all_texts)"
   ]
  },
  {
   "cell_type": "code",
   "execution_count": 64,
   "id": "2fd713e0",
   "metadata": {},
   "outputs": [],
   "source": [
    "# Convert to sequences\n",
    "train_sequences = tokenizer.texts_to_sequences(train_texts)\n",
    "test_sequences = tokenizer.texts_to_sequences(test_texts)"
   ]
  },
  {
   "cell_type": "code",
   "execution_count": 65,
   "id": "319c47eb",
   "metadata": {},
   "outputs": [],
   "source": [
    "# Pad sequences\n",
    "train_padded = pad_sequences(train_sequences, maxlen=max_length, padding='post', truncating='post')\n",
    "test_padded = pad_sequences(test_sequences, maxlen=max_length, padding='post', truncating='post')"
   ]
  },
  {
   "cell_type": "code",
   "execution_count": 66,
   "id": "450c6f35",
   "metadata": {},
   "outputs": [],
   "source": [
    "# Convert labels to numpy arrays\n",
    "train_categories = np.array(train_categories)\n",
    "test_categories = np.array(test_categories)"
   ]
  },
  {
   "cell_type": "markdown",
   "id": "d46a8137",
   "metadata": {},
   "source": [
    "## Build and Train the LSTM Model\n",
    "\n",
    "**🧾 Model Summary**\n",
    "\n",
    "### Model Architecture\n",
    "\n",
    "1. **Embedding Layer**: turns word IDs into dense vectors (128 dimensions).\n",
    "2. **BiLSTM (128 units, return sequences)**: captures forward + backward context.\n",
    "3. **Dropout (0.3)**: reduces overfitting by randomly turn off 30% of neuron during traning time.\n",
    "4. **BiLSTM (64 units)**: summarizes sequence.\n",
    "5. **Dense (64, ReLU)**: learns higher-level features.\n",
    "6. **Dense (softmax)**: outputs class probabilities, softmax is an activatin function for multiclass categories.\n",
    "\n",
    "### Training\n",
    "\n",
    "- **Optimizer**: Adam\n",
    "- **Loss**: categorical crossentropy\n",
    "- **Metric**: accuracy\n",
    "- **Validation split**: 20% of training data used for validation.\n"
   ]
  },
  {
   "cell_type": "code",
   "execution_count": 67,
   "id": "2a86eb04",
   "metadata": {},
   "outputs": [],
   "source": [
    "num_classes = len(categories)"
   ]
  },
  {
   "cell_type": "code",
   "execution_count": 68,
   "id": "f10ffb9b",
   "metadata": {},
   "outputs": [],
   "source": [
    "# One-hot encode labels for categorical crossentropy\n",
    "train_categories_cat = to_categorical(train_categories, num_classes=num_classes)\n",
    "test_categories_cat = to_categorical(test_categories, num_classes=num_classes)"
   ]
  },
  {
   "cell_type": "code",
   "execution_count": 69,
   "id": "c5b60641",
   "metadata": {},
   "outputs": [],
   "source": [
    "# Build model\n",
    "model = Sequential()\n",
    "model.add(Embedding(input_dim=vocab_size, output_dim=128))  # Embedding layer\n",
    "model.add(Bidirectional(LSTM(128, return_sequences=True)))  # First LSTM\n",
    "model.add(Dropout(0.3))  # Prevent overfitting\n",
    "model.add(Bidirectional(LSTM(64)))  # Second LSTM\n",
    "model.add(Dropout(0.3))\n",
    "model.add(Dense(64, activation='relu'))\n",
    "model.add(Dense(num_classes, activation='softmax'))\n",
    "\n",
    "model.compile(optimizer='adam', loss='categorical_crossentropy', metrics=['accuracy'])"
   ]
  },
  {
   "cell_type": "code",
   "execution_count": 70,
   "id": "72cffac1",
   "metadata": {},
   "outputs": [
    {
     "name": "stdout",
     "output_type": "stream",
     "text": [
      "Epoch 1/10\n",
      "\u001b[1m844/844\u001b[0m \u001b[32m━━━━━━━━━━━━━━━━━━━━\u001b[0m\u001b[37m\u001b[0m \u001b[1m589s\u001b[0m 689ms/step - accuracy: 0.5251 - loss: 1.3431 - val_accuracy: 0.1706 - val_loss: 7.6583\n",
      "Epoch 2/10\n",
      "\u001b[1m844/844\u001b[0m \u001b[32m━━━━━━━━━━━━━━━━━━━━\u001b[0m\u001b[37m\u001b[0m \u001b[1m418s\u001b[0m 495ms/step - accuracy: 0.8368 - loss: 0.5263 - val_accuracy: 0.1719 - val_loss: 9.0609\n",
      "Epoch 3/10\n",
      "\u001b[1m844/844\u001b[0m \u001b[32m━━━━━━━━━━━━━━━━━━━━\u001b[0m\u001b[37m\u001b[0m \u001b[1m492s\u001b[0m 582ms/step - accuracy: 0.8686 - loss: 0.4324 - val_accuracy: 0.1739 - val_loss: 9.2876\n",
      "Epoch 4/10\n",
      "\u001b[1m844/844\u001b[0m \u001b[32m━━━━━━━━━━━━━━━━━━━━\u001b[0m\u001b[37m\u001b[0m \u001b[1m463s\u001b[0m 548ms/step - accuracy: 0.8935 - loss: 0.3462 - val_accuracy: 0.1749 - val_loss: 10.1652\n",
      "Epoch 5/10\n",
      "\u001b[1m844/844\u001b[0m \u001b[32m━━━━━━━━━━━━━━━━━━━━\u001b[0m\u001b[37m\u001b[0m \u001b[1m449s\u001b[0m 532ms/step - accuracy: 0.9137 - loss: 0.2905 - val_accuracy: 0.1739 - val_loss: 11.4785\n",
      "Epoch 6/10\n",
      "\u001b[1m844/844\u001b[0m \u001b[32m━━━━━━━━━━━━━━━━━━━━\u001b[0m\u001b[37m\u001b[0m \u001b[1m468s\u001b[0m 555ms/step - accuracy: 0.9140 - loss: 0.2763 - val_accuracy: 0.1696 - val_loss: 11.2222\n",
      "Epoch 7/10\n",
      "\u001b[1m844/844\u001b[0m \u001b[32m━━━━━━━━━━━━━━━━━━━━\u001b[0m\u001b[37m\u001b[0m \u001b[1m447s\u001b[0m 530ms/step - accuracy: 0.9326 - loss: 0.2221 - val_accuracy: 0.1731 - val_loss: 12.4813\n",
      "Epoch 8/10\n",
      "\u001b[1m844/844\u001b[0m \u001b[32m━━━━━━━━━━━━━━━━━━━━\u001b[0m\u001b[37m\u001b[0m \u001b[1m441s\u001b[0m 522ms/step - accuracy: 0.9381 - loss: 0.2053 - val_accuracy: 0.1737 - val_loss: 12.6287\n",
      "Epoch 9/10\n",
      "\u001b[1m844/844\u001b[0m \u001b[32m━━━━━━━━━━━━━━━━━━━━\u001b[0m\u001b[37m\u001b[0m \u001b[1m436s\u001b[0m 516ms/step - accuracy: 0.9464 - loss: 0.1792 - val_accuracy: 0.1733 - val_loss: 12.4427\n",
      "Epoch 10/10\n",
      "\u001b[1m844/844\u001b[0m \u001b[32m━━━━━━━━━━━━━━━━━━━━\u001b[0m\u001b[37m\u001b[0m \u001b[1m240s\u001b[0m 284ms/step - accuracy: 0.9491 - loss: 0.1631 - val_accuracy: 0.1743 - val_loss: 13.8221\n"
     ]
    }
   ],
   "source": [
    "history = model.fit(\n",
    "    train_padded, train_categories_cat,\n",
    "    epochs=10,\n",
    "    batch_size=32,\n",
    "    validation_split=0.2,\n",
    ")"
   ]
  },
  {
   "cell_type": "markdown",
   "id": "083f318b",
   "metadata": {},
   "source": [
    "## Evaluate the Model\n"
   ]
  },
  {
   "cell_type": "code",
   "execution_count": 71,
   "id": "e9060950",
   "metadata": {},
   "outputs": [
    {
     "name": "stdout",
     "output_type": "stream",
     "text": [
      "\u001b[1m1575/1575\u001b[0m \u001b[32m━━━━━━━━━━━━━━━━━━━━\u001b[0m\u001b[37m\u001b[0m \u001b[1m150s\u001b[0m 95ms/step\n"
     ]
    }
   ],
   "source": [
    "# Predict on test set\n",
    "test_preds = model.predict(test_padded)\n",
    "test_preds_categories = np.argmax(test_preds, axis=1)\n"
   ]
  },
  {
   "cell_type": "code",
   "execution_count": 72,
   "id": "79c76474",
   "metadata": {},
   "outputs": [
    {
     "name": "stdout",
     "output_type": "stream",
     "text": [
      "Accuracy: 0.6816, F1-Score: 0.6151\n"
     ]
    }
   ],
   "source": [
    "acc = accuracy_score(test_categories, test_preds_categories)\n",
    "f1 = f1_score(test_categories, test_preds_categories, average='weighted')\n",
    "print(f\"Accuracy: {acc:.4f}, F1-Score: {f1:.4f}\")"
   ]
  },
  {
   "cell_type": "markdown",
   "id": "e2a65c85",
   "metadata": {},
   "source": [
    "# Testing on new data\n"
   ]
  },
  {
   "cell_type": "code",
   "execution_count": 73,
   "id": "298f957b",
   "metadata": {},
   "outputs": [],
   "source": [
    "def process_new_document(text):\n",
    "    # Preprocess\n",
    "    segmented_text = ' '.join(word_tokenize(text))\n",
    "    sequence = tokenizer.texts_to_sequences([segmented_text])\n",
    "    padded = pad_sequences(sequence, maxlen=max_length, padding='post', truncating='post')\n",
    "    \n",
    "    # Predict\n",
    "    pred = model.predict(padded)\n",
    "    pred_id = np.argmax(pred, axis=1)[0]\n",
    "    return id_to_category[pred_id]"
   ]
  },
  {
   "cell_type": "code",
   "execution_count": null,
   "id": "f7c04feb",
   "metadata": {},
   "outputs": [
    {
     "name": "stdout",
     "output_type": "stream",
     "text": [
      "\u001b[1m1/1\u001b[0m \u001b[32m━━━━━━━━━━━━━━━━━━━━\u001b[0m\u001b[37m\u001b[0m \u001b[1m0s\u001b[0m 33ms/step\n",
      "Predicted category: Chinh tri Xa hoi\n"
     ]
    }
   ],
   "source": [
    "article = \"Bài báo về kinh tế Việt Nam năm 2025 với tăng trưởng GDP cao.\"\n",
    "category = process_new_document(article)\n",
    "print(f\"Predicted category: {category}\")"
   ]
  },
  {
   "cell_type": "code",
   "execution_count": null,
   "id": "83f934e5",
   "metadata": {},
   "outputs": [
    {
     "name": "stdout",
     "output_type": "stream",
     "text": [
      "\u001b[1m1/1\u001b[0m \u001b[32m━━━━━━━━━━━━━━━━━━━━\u001b[0m\u001b[37m\u001b[0m \u001b[1m0s\u001b[0m 32ms/step\n",
      "Predicted category: The thao\n"
     ]
    }
   ],
   "source": [
    "article = \"Tân binh Ngoại hạng Anh bị nghi đạo văn trong thư chia tay CLB.\"\n",
    "category = process_new_document(article)\n",
    "print(f\"Predicted category: {category}\")"
   ]
  },
  {
   "cell_type": "code",
   "execution_count": 79,
   "id": "dc77bda0",
   "metadata": {},
   "outputs": [
    {
     "name": "stdout",
     "output_type": "stream",
     "text": [
      "\u001b[1m1/1\u001b[0m \u001b[32m━━━━━━━━━━━━━━━━━━━━\u001b[0m\u001b[37m\u001b[0m \u001b[1m0s\u001b[0m 37ms/step\n",
      "Predicted category: Khoa hoc\n"
     ]
    }
   ],
   "source": [
    "article = \"\"\"Theo Interesting Engineering, công ty Điện khí Đông Phương của Trung Quốc lắp đặt turbine gió ngoài khơi 26 MW, vượt qua mẫu turbine 21,5 MW công ty Siemens Gamesa tại Đan Mạch để giành danh hiệu turbine mạnh nhất thế giới. Đông Phương thông báo nguyên mẫu turbine được đặt tại một cơ sở thử nghiệm và chứng nhận ngoài khơi tỉnh Phúc Kiến.\n",
    "\n",
    "Mẫu turbine mới bao gồm hơn 30.000 bộ phận khác nhau. Cỗ máy lớn nhất toàn cầu cả về công suất và kích thước, có đường kính cánh rotor hơn 310 m và chiều cao trục là 185 m. Mỗi cánh rotor có chiều dài 153 m. Đây là thân trục turbine gió nặng nhất thế giới (500 tấn). Thân trục của turbine gió và 3 cánh rotor khổng lồ được chuyển đến cơ sở thử nghiệm vào đầu tháng 8/2025. Turbine gió được lắp đặt hoàn chỉnh sau 4 tuần.\n",
    "\n",
    "Được thiết kế cho khu vực ngoài khơi có tốc độ gió từ 8 m/s trở lên, turbine có thể sản xuất 100 gigawatt-giờ điện hàng năm với sức gió trung bình 10 m/s. Sản lượng này đủ để cung cấp điện cho 55.000 hộ gia đình, giảm tiêu thụ 30.000 tấn than đá và giảm phát thải carbon dioxide 80.000 tấn. Hệ thống được thiết kế để chịu được gió mạnh tới 200 km/h.\n",
    "\n",
    "Theo Heise, nguyên mẫu turbine gió 26 MW đang được thử nghiệm, bao gồm thử nghiệm nhằm phát hiện dấu hiệu mỏi. Trước đây, chỉ các bộ phận riêng lẻ như cánh rotor trải qua thử nghiệm tĩnh. Hiện nay, tất cả bộ phận phải hoạt động cùng lúc trong thực tế để chứng minh chúng có thể chịu được sử dụng liên tiếp.\n",
    "\n",
    "Việc lắp đặt turbine 26 MW cho thấy Trung Quốc ngày càng thể hiện sức mạnh trên thị trường điện gió ngoài khơi. Năm nay, Trung Quốc dự kiến lắp đặt gần 75% turbine gió ngoài khơi mới trên thế giới. Lợi thế của nước này nằm ở chuỗi cung ứng tích hợp, hỗ trợ tài chính và chính sách của chính phủ, cải tiến công nghệ nhanh chóng. Ngược lại, các dự án tại Mỹ, châu Âu và Nhật Bản bị chậm dưới áp lực của chi phí cao, gián đoạn chuỗi cung ứng và trợ cấp giảm dần.\n",
    "\n",
    "Các nhà sản xuất turbine lớn nhất của Trung Quốc bao gồm Đông Phương, Goldwind và Ming Yang Smart Energy, đang mở rộng ra thị trường nước ngoài. Một số tỉnh như Quảng Đông đặt mục tiêu tham vọng, hướng tới 17 GW gió ngoài khơi vào năm 2025, nhiều hơn bất kỳ quốc gia nào ngoài Trung Quốc. Đối với Đông Phương, turbine 26 MW là biểu tượng cho xu hướng phát triển những cỗ máy lớn và mạnh hơn, có thể thu được gió mạnh hơn ngoài khơi xa, giảm chi phí và thúc đẩy giới hạn công nghệ.\n",
    "\"\"\"\n",
    "category = process_new_document(article)\n",
    "print(f\"Predicted category: {category}\")"
   ]
  },
  {
   "cell_type": "code",
   "execution_count": null,
   "id": "47f49272",
   "metadata": {},
   "outputs": [],
   "source": []
  }
 ],
 "metadata": {
  "kernelspec": {
   "display_name": "Python 3",
   "language": "python",
   "name": "python3"
  },
  "language_info": {
   "codemirror_mode": {
    "name": "ipython",
    "version": 3
   },
   "file_extension": ".py",
   "mimetype": "text/x-python",
   "name": "python",
   "nbconvert_exporter": "python",
   "pygments_lexer": "ipython3",
   "version": "3.10.11"
  }
 },
 "nbformat": 4,
 "nbformat_minor": 5
}
